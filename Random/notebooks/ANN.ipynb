{
 "cells": [
  {
   "cell_type": "code",
   "execution_count": 1078,
   "id": "50d6ee1c",
   "metadata": {},
   "outputs": [],
   "source": [
    "import numpy as np"
   ]
  },
  {
   "cell_type": "code",
   "execution_count": 1079,
   "id": "1944d825",
   "metadata": {},
   "outputs": [],
   "source": [
    "# Input vector (a^{(0)}) - shape (2,1)\n",
    "x = np.array([\n",
    "    [0.05],\n",
    "    [0.10]\n",
    "])\n",
    "a0 = x\n",
    "y = np.array([0.01])\n",
    "\n",
    "# Weight matrix for hidden layer (W^{(1)}) – shape (3, 2)\n",
    "W1 = np.array([\n",
    "    [0.15, 0.20],\n",
    "    [0.25, 0.30],\n",
    "    [0.35, 0.40]\n",
    "])\n",
    "\n",
    "# Bias vector for hidden layer (b^{(1)}) – shape (3, 1)\n",
    "b1 = np.array([\n",
    "    [0.35],\n",
    "    [0.35],\n",
    "    [0.35]\n",
    "])\n",
    "\n",
    "# Weight matrix for output layer (W^{(2)}) – shape (1, 3)\n",
    "W2 = np.array([\n",
    "    [0.40, 0.45, 0.50]\n",
    "])\n",
    "\n",
    "# Bias vector for output layer (b^{(2)}) – shape (1, 1)\n",
    "b2 = np.array([\n",
    "    [0.60]\n",
    "])"
   ]
  },
  {
   "cell_type": "code",
   "execution_count": 1,
   "id": "d9c73e8d",
   "metadata": {},
   "outputs": [],
   "source": [
    "def sigmoid(z):\n",
    "    return 1 / (1 + np.exp(-z))\n",
    "\n",
    "def sigmoid_derivative(z):\n",
    "    s = sigmoid(z)\n",
    "    return s * (1 - s)\n",
    "\n",
    "def fowordPass(w, a, b):\n",
    "    return sigmoid(w@a+b)"
   ]
  },
  {
   "cell_type": "code",
   "execution_count": 1117,
   "id": "0a731878",
   "metadata": {},
   "outputs": [],
   "source": [
    "def loop(w1, w2, b1, b2, i):\n",
    "    # 1. FORWARD PASS\n",
    "    z1 = w1 @ x + b1\n",
    "    a1 = sigmoid(z1)\n",
    "    z2 = w2 @ a1 + b2\n",
    "    a2 = sigmoid(z2)\n",
    "    \n",
    "    # 2. CALCULATE LOSS\n",
    "    error = a2-y\n",
    "    loss = 0.5 * error.T @ error\n",
    "    \n",
    "    # 3. BACKWARD PASS\n",
    "    delta2 = (a2 - y) * sigmoid_derivative(z2)\n",
    "    delta1 = (W2.T @ delta2) * sigmoid_derivative(z1)\n",
    "    \n",
    "    w2 = w2 - eta * delta2 @ a1.T      \n",
    "    b2 = b2 - eta * delta2                    \n",
    "    w1 = w1 - eta * delta1 @ a0.T     \n",
    "    b1 = b1 - eta * delta1   \n",
    "    \n",
    "    # print(f\"{i}     Loss: {loss} -      Output: {a2}\")\n",
    "    return w1, w2, b1, b2, loss, a2"
   ]
  },
  {
   "cell_type": "code",
   "execution_count": 1121,
   "id": "f68d6915",
   "metadata": {},
   "outputs": [
    {
     "name": "stdout",
     "output_type": "stream",
     "text": [
      "Loss = [[9.99967903e-11]] - Output = [[0.01001414]]\n"
     ]
    }
   ],
   "source": [
    "i = 1\n",
    "out = loop(W1, W2, b1, b2, i)\n",
    "while (out[4]>0.0000000001):\n",
    "    i += 1\n",
    "    out = loop(out[0], out[1], out[2], out[3], i)\n",
    "\n",
    "print(f\"Loss = {out[4]} - Output = {out[5]}\")"
   ]
  }
 ],
 "metadata": {
  "kernelspec": {
   "display_name": ".venv",
   "language": "python",
   "name": "python3"
  },
  "language_info": {
   "codemirror_mode": {
    "name": "ipython",
    "version": 3
   },
   "file_extension": ".py",
   "mimetype": "text/x-python",
   "name": "python",
   "nbconvert_exporter": "python",
   "pygments_lexer": "ipython3",
   "version": "3.11.9"
  }
 },
 "nbformat": 4,
 "nbformat_minor": 5
}
