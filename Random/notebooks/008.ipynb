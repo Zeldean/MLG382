{
 "cells": [
  {
   "cell_type": "code",
   "execution_count": 2,
   "id": "8262e11f",
   "metadata": {},
   "outputs": [],
   "source": [
    "import numpy as np\n",
    "import pandas as pd\n",
    "\n",
    "from IPython.display import display \n",
    "\n",
    "import matplotlib.pyplot as plt\n",
    "import seaborn as sns\n",
    "from scipy import stats\n",
    "\n",
    "from sklearn.linear_model import LinearRegression\n",
    "from sklearn.model_selection import train_test_split\n",
    "from sklearn.metrics import mean_absolute_error, mean_squared_error\n"
   ]
  },
  {
   "cell_type": "code",
   "execution_count": 6,
   "id": "72e87488",
   "metadata": {},
   "outputs": [
    {
     "data": {
      "text/html": [
       "<div>\n",
       "<style scoped>\n",
       "    .dataframe tbody tr th:only-of-type {\n",
       "        vertical-align: middle;\n",
       "    }\n",
       "\n",
       "    .dataframe tbody tr th {\n",
       "        vertical-align: top;\n",
       "    }\n",
       "\n",
       "    .dataframe thead th {\n",
       "        text-align: right;\n",
       "    }\n",
       "</style>\n",
       "<table border=\"1\" class=\"dataframe\">\n",
       "  <thead>\n",
       "    <tr style=\"text-align: right;\">\n",
       "      <th></th>\n",
       "      <th>cylinders</th>\n",
       "      <th>displacement_litre</th>\n",
       "      <th>power_kw</th>\n",
       "      <th>weight_ton</th>\n",
       "      <th>acceleration</th>\n",
       "      <th>kmperlitre</th>\n",
       "    </tr>\n",
       "  </thead>\n",
       "  <tbody>\n",
       "    <tr>\n",
       "      <th>0</th>\n",
       "      <td>8</td>\n",
       "      <td>5.0</td>\n",
       "      <td>96</td>\n",
       "      <td>1.589</td>\n",
       "      <td>12.0</td>\n",
       "      <td>7.65</td>\n",
       "    </tr>\n",
       "    <tr>\n",
       "      <th>1</th>\n",
       "      <td>8</td>\n",
       "      <td>5.7</td>\n",
       "      <td>121</td>\n",
       "      <td>1.675</td>\n",
       "      <td>11.5</td>\n",
       "      <td>6.38</td>\n",
       "    </tr>\n",
       "    <tr>\n",
       "      <th>2</th>\n",
       "      <td>8</td>\n",
       "      <td>5.2</td>\n",
       "      <td>110</td>\n",
       "      <td>1.559</td>\n",
       "      <td>11.0</td>\n",
       "      <td>7.65</td>\n",
       "    </tr>\n",
       "    <tr>\n",
       "      <th>3</th>\n",
       "      <td>8</td>\n",
       "      <td>5.0</td>\n",
       "      <td>110</td>\n",
       "      <td>1.557</td>\n",
       "      <td>12.0</td>\n",
       "      <td>6.80</td>\n",
       "    </tr>\n",
       "    <tr>\n",
       "      <th>4</th>\n",
       "      <td>8</td>\n",
       "      <td>4.9</td>\n",
       "      <td>103</td>\n",
       "      <td>1.564</td>\n",
       "      <td>10.5</td>\n",
       "      <td>7.23</td>\n",
       "    </tr>\n",
       "  </tbody>\n",
       "</table>\n",
       "</div>"
      ],
      "text/plain": [
       "   cylinders  displacement_litre  power_kw  weight_ton  acceleration  \\\n",
       "0          8                 5.0        96       1.589          12.0   \n",
       "1          8                 5.7       121       1.675          11.5   \n",
       "2          8                 5.2       110       1.559          11.0   \n",
       "3          8                 5.0       110       1.557          12.0   \n",
       "4          8                 4.9       103       1.564          10.5   \n",
       "\n",
       "   kmperlitre  \n",
       "0        7.65  \n",
       "1        6.38  \n",
       "2        7.65  \n",
       "3        6.80  \n",
       "4        7.23  "
      ]
     },
     "execution_count": 6,
     "metadata": {},
     "output_type": "execute_result"
    }
   ],
   "source": [
    "df = pd.read_csv(r\"./../data/auto-mpg-Cleaned.csv\")\n",
    "df = df.drop(columns=['car name', 'model year'])\n",
    "df.head()\n"
   ]
  },
  {
   "cell_type": "code",
   "execution_count": 20,
   "id": "ff371ccc",
   "metadata": {},
   "outputs": [
    {
     "data": {
      "text/plain": [
       "<Axes: >"
      ]
     },
     "execution_count": 20,
     "metadata": {},
     "output_type": "execute_result"
    },
    {
     "data": {
      "image/png": "[encoded data removed]",
      "text/plain": [
       "<Figure size 640x480 with 1 Axes>"
      ]
     },
     "metadata": {},
     "output_type": "display_data"
    }
   ],
   "source": [
    "df_alt = df.copy()\n",
    "# for col in df.columns:\n",
    "#     df_alt[f\"{col}\"] = df[f\"{col}\"]*1\n",
    "\n",
    "df_alt['power_kw'] = df['power_kw']/6\n",
    "df_alt['weight_ton'] = df['weight_ton']*6\n",
    "sns.boxplot(data=df_alt)"
   ]
  }
 ],
 "metadata": {
  "kernelspec": {
   "display_name": ".venv",
   "language": "python",
   "name": "python3"
  },
  "language_info": {
   "codemirror_mode": {
    "name": "ipython",
    "version": 3
   },
   "file_extension": ".py",
   "mimetype": "text/x-python",
   "name": "python",
   "nbconvert_exporter": "python",
   "pygments_lexer": "ipython3",
   "version": "3.13.2"
  }
 },
 "nbformat": 4,
 "nbformat_minor": 5
}
