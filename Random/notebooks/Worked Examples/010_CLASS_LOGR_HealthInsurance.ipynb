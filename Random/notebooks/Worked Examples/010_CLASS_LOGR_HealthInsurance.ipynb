{
 "cells": [
  {
   "cell_type": "markdown",
   "id": "112ba06d-c67f-4c19-9ec6-491fd6f4ba93",
   "metadata": {},
   "source": [
    "<b><font size=\"6\">|010|Logistic Regression|Purchasing Health Insurance</font></b>\n",
    "\n",
    "* **Author**: Dino Giovannoni\n",
    "* **Date:**: 11-July-2024\n",
    "\n",
    "\n",
    "**The Problem:** \n",
    "\n",
    "This problem will attempt to predict the categories of people that purchase health insurance based on age."
   ]
  },
  {
   "cell_type": "code",
   "execution_count": 24,
   "id": "2d31657e-70e7-4cda-97e0-4e2ed6d54501",
   "metadata": {
    "tags": []
   },
   "outputs": [],
   "source": [
    "# Importing the libraries\n",
    "import numpy as np\n",
    "import matplotlib.pyplot as plt\n",
    "import seaborn as sns\n",
    "import pandas as pd\n",
    "\n",
    "from IPython.display import display\n",
    "\n",
    "from sklearn.model_selection import train_test_split\n",
    "from sklearn.linear_model import LogisticRegression\n",
    "from sklearn.metrics import confusion_matrix"
   ]
  },
  {
   "cell_type": "markdown",
   "id": "2dc31782-049b-44e2-8c57-0b35fc111cc5",
   "metadata": {},
   "source": [
    "Import the dataset"
   ]
  },
  {
   "cell_type": "code",
   "execution_count": 25,
   "id": "789e3b8f-6235-4bc3-9fd6-16ed20709451",
   "metadata": {
    "tags": []
   },
   "outputs": [],
   "source": [
    "df = pd.read_csv('HealthInsurance.csv')"
   ]
  },
  {
   "cell_type": "code",
   "execution_count": 26,
   "id": "204976e9-abbc-46de-9748-4fad6c60bcaa",
   "metadata": {
    "tags": []
   },
   "outputs": [
    {
     "data": {
      "text/html": [
       "<div>\n",
       "<style scoped>\n",
       "    .dataframe tbody tr th:only-of-type {\n",
       "        vertical-align: middle;\n",
       "    }\n",
       "\n",
       "    .dataframe tbody tr th {\n",
       "        vertical-align: top;\n",
       "    }\n",
       "\n",
       "    .dataframe thead th {\n",
       "        text-align: right;\n",
       "    }\n",
       "</style>\n",
       "<table border=\"1\" class=\"dataframe\">\n",
       "  <thead>\n",
       "    <tr style=\"text-align: right;\">\n",
       "      <th></th>\n",
       "      <th>Age</th>\n",
       "      <th>Purchased Health Insurance</th>\n",
       "    </tr>\n",
       "  </thead>\n",
       "  <tbody>\n",
       "    <tr>\n",
       "      <th>0</th>\n",
       "      <td>46</td>\n",
       "      <td>1</td>\n",
       "    </tr>\n",
       "    <tr>\n",
       "      <th>1</th>\n",
       "      <td>32</td>\n",
       "      <td>0</td>\n",
       "    </tr>\n",
       "    <tr>\n",
       "      <th>2</th>\n",
       "      <td>66</td>\n",
       "      <td>1</td>\n",
       "    </tr>\n",
       "    <tr>\n",
       "      <th>3</th>\n",
       "      <td>43</td>\n",
       "      <td>1</td>\n",
       "    </tr>\n",
       "    <tr>\n",
       "      <th>4</th>\n",
       "      <td>37</td>\n",
       "      <td>0</td>\n",
       "    </tr>\n",
       "  </tbody>\n",
       "</table>\n",
       "</div>"
      ],
      "text/plain": [
       "   Age  Purchased Health Insurance\n",
       "0   46                           1\n",
       "1   32                           0\n",
       "2   66                           1\n",
       "3   43                           1\n",
       "4   37                           0"
      ]
     },
     "metadata": {},
     "output_type": "display_data"
    },
    {
     "name": "stdout",
     "output_type": "stream",
     "text": [
      "<class 'pandas.core.frame.DataFrame'>\n",
      "RangeIndex: 136 entries, 0 to 135\n",
      "Data columns (total 2 columns):\n",
      " #   Column                      Non-Null Count  Dtype\n",
      "---  ------                      --------------  -----\n",
      " 0   Age                         136 non-null    int64\n",
      " 1   Purchased Health Insurance  136 non-null    int64\n",
      "dtypes: int64(2)\n",
      "memory usage: 2.2 KB\n"
     ]
    },
    {
     "data": {
      "text/plain": [
       "None"
      ]
     },
     "metadata": {},
     "output_type": "display_data"
    }
   ],
   "source": [
    "display(df.head())\n",
    "display(df.info())"
   ]
  },
  {
   "cell_type": "code",
   "execution_count": 27,
   "id": "87672da8-784d-40c1-bf56-ad961c36dde3",
   "metadata": {
    "tags": []
   },
   "outputs": [
    {
     "data": {
      "text/html": [
       "<div>\n",
       "<style scoped>\n",
       "    .dataframe tbody tr th:only-of-type {\n",
       "        vertical-align: middle;\n",
       "    }\n",
       "\n",
       "    .dataframe tbody tr th {\n",
       "        vertical-align: top;\n",
       "    }\n",
       "\n",
       "    .dataframe thead th {\n",
       "        text-align: right;\n",
       "    }\n",
       "</style>\n",
       "<table border=\"1\" class=\"dataframe\">\n",
       "  <thead>\n",
       "    <tr style=\"text-align: right;\">\n",
       "      <th></th>\n",
       "      <th>count</th>\n",
       "      <th>mean</th>\n",
       "      <th>std</th>\n",
       "      <th>min</th>\n",
       "      <th>25%</th>\n",
       "      <th>50%</th>\n",
       "      <th>75%</th>\n",
       "      <th>max</th>\n",
       "    </tr>\n",
       "  </thead>\n",
       "  <tbody>\n",
       "    <tr>\n",
       "      <th>Age</th>\n",
       "      <td>136.0</td>\n",
       "      <td>41.022059</td>\n",
       "      <td>14.590442</td>\n",
       "      <td>18.0</td>\n",
       "      <td>28.0</td>\n",
       "      <td>41.0</td>\n",
       "      <td>52.25</td>\n",
       "      <td>70.0</td>\n",
       "    </tr>\n",
       "    <tr>\n",
       "      <th>Purchased Health Insurance</th>\n",
       "      <td>136.0</td>\n",
       "      <td>0.448529</td>\n",
       "      <td>0.499182</td>\n",
       "      <td>0.0</td>\n",
       "      <td>0.0</td>\n",
       "      <td>0.0</td>\n",
       "      <td>1.00</td>\n",
       "      <td>1.0</td>\n",
       "    </tr>\n",
       "  </tbody>\n",
       "</table>\n",
       "</div>"
      ],
      "text/plain": [
       "                            count       mean        std   min   25%   50%  \\\n",
       "Age                         136.0  41.022059  14.590442  18.0  28.0  41.0   \n",
       "Purchased Health Insurance  136.0   0.448529   0.499182   0.0   0.0   0.0   \n",
       "\n",
       "                              75%   max  \n",
       "Age                         52.25  70.0  \n",
       "Purchased Health Insurance   1.00   1.0  "
      ]
     },
     "metadata": {},
     "output_type": "display_data"
    }
   ],
   "source": [
    "display(df.describe().T)"
   ]
  },
  {
   "cell_type": "markdown",
   "id": "4aca0caa-5e2f-403c-b929-b8cecafc167d",
   "metadata": {},
   "source": [
    "## Histogram Plots"
   ]
  },
  {
   "cell_type": "markdown",
   "id": "fff5e897-c59f-45cf-8987-e4d90915c428",
   "metadata": {},
   "source": [
    "Let's plot the histogram using **matplotlib**."
   ]
  },
  {
   "cell_type": "code",
   "execution_count": 28,
   "id": "16eeb117-35a9-45d4-b242-ff385ea7f14c",
   "metadata": {
    "tags": []
   },
   "outputs": [
    {
     "data": {
      "image/png": "[encoded data removed]",
      "text/plain": [
       "<Figure size 800x500 with 1 Axes>"
      ]
     },
     "metadata": {},
     "output_type": "display_data"
    }
   ],
   "source": [
    "fig, ax = plt.subplots(figsize=(8, 5))\n",
    "_ = plt.hist(df[\"Age\"], bins=40, edgecolor='black', linewidth=1)\n",
    "plt.grid(linestyle=\"--\", zorder=0)\n",
    "plt.gca().set_axisbelow(True)  # Ensure grid lines are drawn below the bars\n",
    "plt.title(\"Age Distribution\")\n",
    "plt.xlabel(\"Age\")\n",
    "plt.ylabel(\"Count\")\n",
    "plt.show()"
   ]
  },
  {
   "cell_type": "code",
   "execution_count": null,
   "id": "eaf2d694-f691-4352-8368-845cbef3d03d",
   "metadata": {},
   "outputs": [],
   "source": []
  },
  {
   "cell_type": "markdown",
   "id": "5146d283-3b45-4c06-9376-b1810556ede9",
   "metadata": {},
   "source": [
    "## Scatter Plots"
   ]
  },
  {
   "cell_type": "code",
   "execution_count": 29,
   "id": "c3daaa3a-362e-46a6-8f47-c3b2b0c42e0c",
   "metadata": {
    "tags": []
   },
   "outputs": [
    {
     "data": {
      "image/png": "[encoded data removed]",
      "text/plain": [
       "<Figure size 640x480 with 1 Axes>"
      ]
     },
     "metadata": {},
     "output_type": "display_data"
    }
   ],
   "source": [
    "ax = df.plot.scatter(x='Age', y='Purchased Health Insurance', c='blue')"
   ]
  },
  {
   "cell_type": "markdown",
   "id": "a4031601-02e1-4de3-8349-b4153bb459c4",
   "metadata": {},
   "source": [
    "# Model"
   ]
  },
  {
   "cell_type": "code",
   "execution_count": 30,
   "id": "64629024-0ccb-40bd-aa05-3841bdd7231e",
   "metadata": {
    "tags": []
   },
   "outputs": [],
   "source": [
    "X = np.array(df[\"Age\"]).reshape(-1, 1)\n",
    "y = np.array(df[\"Purchased Health Insurance\"])"
   ]
  },
  {
   "cell_type": "code",
   "execution_count": 31,
   "id": "0e36f068-1c24-4ab3-aabf-9fd3ba3c8bc0",
   "metadata": {
    "tags": []
   },
   "outputs": [],
   "source": [
    "X_train, X_test, y_train, y_test = train_test_split(X, y, test_size = 0.25, random_state = 0)"
   ]
  },
  {
   "cell_type": "markdown",
   "id": "d01ebba3-fa23-454f-b0e0-9371e63f6e03",
   "metadata": {},
   "source": [
    "## Fit Logistic Regression Model"
   ]
  },
  {
   "cell_type": "code",
   "execution_count": 32,
   "id": "0f22f6db-5ed4-4cda-a32d-a2bec7ae5152",
   "metadata": {
    "tags": []
   },
   "outputs": [],
   "source": [
    "model = LogisticRegression(random_state = 0, solver='lbfgs' )\n",
    "model.fit(X_train, y_train)\n",
    "\n",
    "y_train_pred = model.predict(X_train)\n",
    "y_test_pred = model.predict(X_test)"
   ]
  },
  {
   "cell_type": "code",
   "execution_count": 33,
   "id": "1156911e-c14a-4cdf-bf5f-47b2bceeaf0d",
   "metadata": {
    "tags": []
   },
   "outputs": [
    {
     "data": {
      "text/plain": [
       "array([[0.93088033]])"
      ]
     },
     "execution_count": 33,
     "metadata": {},
     "output_type": "execute_result"
    }
   ],
   "source": [
    "model.coef_"
   ]
  },
  {
   "cell_type": "markdown",
   "id": "f3a9f915-6656-4d4d-9f27-416d839789fa",
   "metadata": {},
   "source": [
    "## The Confusion Matrix"
   ]
  },
  {
   "cell_type": "markdown",
   "id": "301369f4-ff17-4119-b6e1-0c490af39f62",
   "metadata": {},
   "source": [
    "### Training Data"
   ]
  },
  {
   "cell_type": "code",
   "execution_count": 34,
   "id": "3a1e6cb6-52d9-4e9f-be26-2ee04dbbebc7",
   "metadata": {
    "tags": []
   },
   "outputs": [
    {
     "name": "stdout",
     "output_type": "stream",
     "text": [
      "[[58  2]\n",
      " [ 2 40]]\n",
      "Training Prediction Accuracy: 96.1%\n"
     ]
    },
    {
     "data": {
      "image/png": "[encoded data removed]",
      "text/plain": [
       "<Figure size 640x480 with 2 Axes>"
      ]
     },
     "metadata": {},
     "output_type": "display_data"
    }
   ],
   "source": [
    "cm_train = confusion_matrix(y_train, y_train_pred)\n",
    "print(cm_train)\n",
    "cm_train_prob = cm_train/np.sum(cm_train)\n",
    "_ = sns.heatmap(cm_train_prob, annot=True,cmap='Blues', fmt='.1%')\n",
    "print(f'Training Prediction Accuracy: {np.round(100*(cm_train_prob[0][0] + cm_train_prob[1][1]),1)}%')\n"
   ]
  },
  {
   "cell_type": "markdown",
   "id": "8080dd80-d62c-48a8-8b8d-fc16ebaf90df",
   "metadata": {},
   "source": [
    "### Test Data"
   ]
  },
  {
   "cell_type": "code",
   "execution_count": 35,
   "id": "8bc45b4c-ecf5-45b8-a929-4f8a85680706",
   "metadata": {
    "tags": []
   },
   "outputs": [
    {
     "name": "stdout",
     "output_type": "stream",
     "text": [
      "[[15  0]\n",
      " [ 1 18]]\n",
      "For the following test values: [52 37 60 32 48 23 47 19 26 60 49 28 30 33 65 18 64 40 18 49 61 36 59 33\n",
      " 23 60 60 45 39 55 66 51 20 52]\n",
      "Test Prediction Accuracy: 97.1%\n"
     ]
    },
    {
     "data": {
      "image/png": "[encoded data removed]",
      "text/plain": [
       "<Figure size 640x480 with 2 Axes>"
      ]
     },
     "metadata": {},
     "output_type": "display_data"
    }
   ],
   "source": [
    "cm_test = confusion_matrix(y_test, y_test_pred)\n",
    "print(cm_test)\n",
    "cm_test_prob = cm_test/np.sum(cm_test)\n",
    "_ = sns.heatmap(cm_test_prob, annot=True,cmap='Blues', fmt='.1%')\n",
    "\n",
    "print(f'For the following test values: {X_test.flatten()}')\n",
    "print(f'Test Prediction Accuracy: {np.round(100*(cm_test_prob[0][0] + cm_test_prob[1][1]),1)}%')\n"
   ]
  },
  {
   "cell_type": "markdown",
   "id": "5db719d1-b7b0-4ae5-9959-8c6d1d65f087",
   "metadata": {},
   "source": [
    "The accuracy can also be calculated using a sklearn function:"
   ]
  },
  {
   "cell_type": "code",
   "execution_count": 36,
   "id": "280735e5-ee48-4c42-850c-e3391d7e7b3d",
   "metadata": {
    "tags": []
   },
   "outputs": [
    {
     "name": "stdout",
     "output_type": "stream",
     "text": [
      "Accuracy: 97.1%\n"
     ]
    }
   ],
   "source": [
    "from sklearn.metrics import accuracy_score\n",
    "accuracy = accuracy_score(y_test, y_test_pred)\n",
    "print(f'Accuracy: {np.round(100*accuracy, 1)}%')"
   ]
  },
  {
   "cell_type": "markdown",
   "id": "efae0a7c-a312-49e7-ad12-7f30246943c9",
   "metadata": {},
   "source": [
    "## Plot All data"
   ]
  },
  {
   "cell_type": "code",
   "execution_count": 37,
   "id": "f510be99-4a46-423b-bbf7-032bcb2273bf",
   "metadata": {
    "tags": []
   },
   "outputs": [],
   "source": [
    "def sigmoid(x):\n",
    "    return 1 / (1 + np.exp(-x))"
   ]
  },
  {
   "cell_type": "code",
   "execution_count": 38,
   "id": "5d004bd4-a1b3-4714-8f05-d6ce6c57cbce",
   "metadata": {
    "tags": []
   },
   "outputs": [],
   "source": [
    "from scipy.interpolate import InterpolatedUnivariateSpline\n",
    "from scipy.optimize import root_scalar\n",
    "def calculate_thresholdX(x_values, y_values, threshold = 0.5):\n",
    "\n",
    "    # Example data arrays\n",
    "    y = S-threshold\n",
    "    x = x_values\n",
    "    # Interpolate the data\n",
    "    spline = InterpolatedUnivariateSpline(x, y)\n",
    "\n",
    "    # Define a function for the spline\n",
    "    def f(x):\n",
    "        return spline(x)\n",
    "\n",
    "    # Find the roots using a root-finding algorithm\n",
    "    roots = []\n",
    "    for i in range(len(x) - 1):\n",
    "        if y[i] * y[i+1] <= 0:  # Check if there is a sign change\n",
    "            root_result = root_scalar(f, bracket=[x[i], x[i+1]])\n",
    "            if root_result.converged:\n",
    "                roots.append(root_result.root)\n",
    "    return roots"
   ]
  },
  {
   "cell_type": "code",
   "execution_count": 39,
   "id": "4b1de086-c709-4d1d-b7ed-118796c846ed",
   "metadata": {
    "tags": []
   },
   "outputs": [
    {
     "name": "stdout",
     "output_type": "stream",
     "text": [
      "Threshhold: 43.57\n"
     ]
    },
    {
     "data": {
      "image/png": "[encoded data removed]",
      "text/plain": [
       "<Figure size 900x500 with 1 Axes>"
      ]
     },
     "metadata": {},
     "output_type": "display_data"
    }
   ],
   "source": [
    "colors = ['green' if value == 0 else 'red' for value in y]\n",
    "\n",
    "plt.figure(1, figsize=(9, 5))\n",
    "\n",
    "plt.scatter(X.ravel(), y,  zorder=20, s=20, c = colors, edgecolor='black')\n",
    "\n",
    "X_plot = np.linspace(15, 75, 201)\n",
    "S = sigmoid(X_plot * model.coef_ + model.intercept_).ravel()\n",
    "\n",
    "X_thresh = calculate_thresholdX(X_plot, S)[0]\n",
    "print(f\"Threshhold: {np.round(X_thresh,2)}\" )\n",
    "\n",
    "plt.plot(X_plot, S, color='blue', linewidth=2)\n",
    "plt.axhline(y=0, color='k', linestyle='--')\n",
    "plt.axhline(y=1, color='k', linestyle='--')\n",
    "plt.axhline(y=0.5, color='k', linestyle='dotted')\n",
    "plt.axvline(x=X_thresh, color='k', linestyle='dotted')\n",
    "\n",
    "plt.ylabel('Category Probability')\n",
    "plt.xlabel('Age')\n",
    "plt.xlim(15, 75)\n",
    "plt.show()"
   ]
  },
  {
   "cell_type": "markdown",
   "id": "1288e223-0fee-4cfe-a25a-36487ab9ad20",
   "metadata": {},
   "source": [
    "## Calculating a probability"
   ]
  },
  {
   "cell_type": "markdown",
   "id": "f88865f4-e041-4453-a384-463f5e34c799",
   "metadata": {},
   "source": [
    "### Using the sigmoid function"
   ]
  },
  {
   "cell_type": "code",
   "execution_count": 40,
   "id": "14fc32aa-7be9-4cb7-a177-463f4ab1d2ea",
   "metadata": {
    "tags": []
   },
   "outputs": [
    {
     "name": "stdout",
     "output_type": "stream",
     "text": [
      "The probability of somebody of age 44 purchasing health insurance is 59.9%\n"
     ]
    }
   ],
   "source": [
    "age_value = 44\n",
    "prob_value = sigmoid(age_value * model.coef_ + model.intercept_)[0][0]\n",
    "print(f'The probability of somebody of age {age_value} purchasing health insurance is {np.round(100*prob_value,1)}%')"
   ]
  },
  {
   "cell_type": "markdown",
   "id": "0f92b8cf-51fe-43b1-a74d-65673d23fc6f",
   "metadata": {},
   "source": [
    "### Using the model predictor"
   ]
  },
  {
   "cell_type": "code",
   "execution_count": 44,
   "id": "32de40f9-3c1c-4354-a0ef-8bae3d2730bf",
   "metadata": {},
   "outputs": [],
   "source": [
    "X_point = np.array([age_value]).reshape(-1, 1)"
   ]
  },
  {
   "cell_type": "code",
   "execution_count": 46,
   "id": "bd0bdb1d-bde3-43cd-a8fd-011ef20c302f",
   "metadata": {
    "tags": []
   },
   "outputs": [
    {
     "name": "stdout",
     "output_type": "stream",
     "text": [
      "The probability of somebody of age 44 purchasing health insurance is [59.9]%\n"
     ]
    }
   ],
   "source": [
    "predicted_probability = model.predict_proba(X_point)[:, 1]\n",
    "print(f'The probability of somebody of age {age_value} purchasing health insurance is {np.round(100*predicted_probability,1)}%')\n",
    "\n"
   ]
  },
  {
   "cell_type": "code",
   "execution_count": null,
   "id": "49920196-5bbd-4d3d-9601-763e7c0a3b17",
   "metadata": {},
   "outputs": [],
   "source": []
  }
 ],
 "metadata": {
  "kernelspec": {
   "display_name": "Python 3 (ipykernel)",
   "language": "python",
   "name": "python3"
  },
  "language_info": {
   "codemirror_mode": {
    "name": "ipython",
    "version": 3
   },
   "file_extension": ".py",
   "mimetype": "text/x-python",
   "name": "python",
   "nbconvert_exporter": "python",
   "pygments_lexer": "ipython3",
   "version": "3.9.18"
  }
 },
 "nbformat": 4,
 "nbformat_minor": 5
}
