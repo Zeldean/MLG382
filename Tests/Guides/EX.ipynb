{
 "cells": [
  {
   "cell_type": "markdown",
   "id": "b17fcc34",
   "metadata": {},
   "source": [
    "## 📦 1. Data Loading & Inspection"
   ]
  },
  {
   "cell_type": "code",
   "execution_count": 175,
   "id": "7ae4d071",
   "metadata": {},
   "outputs": [],
   "source": [
    "# 📦 1. DATA LOADING & INSPECTION\n",
    "# --------------------------------\n",
    "# ✅ Common Imports\n",
    "import pandas as pd  # For data loading\n",
    "import numpy as np   # For numerical operations\n"
   ]
  },
  {
   "cell_type": "code",
   "execution_count": 176,
   "id": "c04d4745",
   "metadata": {},
   "outputs": [],
   "source": [
    "# 📥 Load from CSV\n",
    "df = pd.read_csv('filename.csv')\n",
    "\n",
    "# Alternative: specify delimiter (e.g. tabs, semicolons)\n",
    "df = pd.read_csv('filename.csv', delimiter='\\t')      # Tab-separated\n",
    "df = pd.read_csv('filename.csv', sep=';')             # Semicolon-separated\n",
    "\n",
    "# If file has no header row:\n",
    "df = pd.read_csv('filename.csv', header=None)\n",
    "\n",
    "# Only read specific columns:\n",
    "# df = pd.read_csv('filename.csv', usecols=['Col1', 'Col2'])\n"
   ]
  },
  {
   "cell_type": "code",
   "execution_count": 177,
   "id": "69673219",
   "metadata": {},
   "outputs": [],
   "source": [
    "# 📥 Load from Excel\n",
    "# df = pd.read_excel('filename.xlsx')                   # First sheet by default\n",
    "# df = pd.read_excel('filename.xlsx', sheet_name='DataSheet')  # Specify sheet\n"
   ]
  },
  {
   "cell_type": "code",
   "execution_count": 178,
   "id": "7328a9d2",
   "metadata": {},
   "outputs": [],
   "source": [
    "# 📥 Load from SQL database\n",
    "import sqlite3\n",
    "\n",
    "conn = sqlite3.connect('database.db')\n",
    "# df = pd.read_sql_query(\"SELECT * FROM table_name\", conn)\n"
   ]
  },
  {
   "cell_type": "code",
   "execution_count": 179,
   "id": "39268d65",
   "metadata": {},
   "outputs": [],
   "source": [
    "# 📥 Load from clipboard (quick test with Excel/CSV selection)\n",
    "df = pd.read_clipboard()  # Paste copied table directly into DataFrame\n"
   ]
  },
  {
   "cell_type": "code",
   "execution_count": 180,
   "id": "3192a03b",
   "metadata": {},
   "outputs": [],
   "source": [
    "# 📥 Manual creation from dictionary or array\n",
    "df = pd.DataFrame({\n",
    "    'Name': ['Alice', 'Bob'],\n",
    "    'Age': [25, 30]\n",
    "})\n",
    "\n",
    "# Or from list of records\n",
    "df = pd.DataFrame([\n",
    "    {'Name': 'Alice', 'Age': 25},\n",
    "    {'Name': 'Bob', 'Age': 30}\n",
    "])"
   ]
  },
  {
   "cell_type": "markdown",
   "id": "ba7b7a76",
   "metadata": {},
   "source": [
    "## 🧼 2. Handling Missing Data"
   ]
  },
  {
   "cell_type": "code",
   "execution_count": 181,
   "id": "a77e26ec",
   "metadata": {},
   "outputs": [
    {
     "data": {
      "text/html": [
       "<div>\n",
       "<style scoped>\n",
       "    .dataframe tbody tr th:only-of-type {\n",
       "        vertical-align: middle;\n",
       "    }\n",
       "\n",
       "    .dataframe tbody tr th {\n",
       "        vertical-align: top;\n",
       "    }\n",
       "\n",
       "    .dataframe thead th {\n",
       "        text-align: right;\n",
       "    }\n",
       "</style>\n",
       "<table border=\"1\" class=\"dataframe\">\n",
       "  <thead>\n",
       "    <tr style=\"text-align: right;\">\n",
       "      <th></th>\n",
       "      <th>Present_Price</th>\n",
       "      <th>Kms_Driven</th>\n",
       "      <th>Fuel_Type</th>\n",
       "    </tr>\n",
       "  </thead>\n",
       "  <tbody>\n",
       "    <tr>\n",
       "      <th>0</th>\n",
       "      <td>5.0</td>\n",
       "      <td>27000.0</td>\n",
       "      <td>Petrol</td>\n",
       "    </tr>\n",
       "    <tr>\n",
       "      <th>1</th>\n",
       "      <td>NaN</td>\n",
       "      <td>43000.0</td>\n",
       "      <td>NaN</td>\n",
       "    </tr>\n",
       "    <tr>\n",
       "      <th>2</th>\n",
       "      <td>7.2</td>\n",
       "      <td>NaN</td>\n",
       "      <td>Diesel</td>\n",
       "    </tr>\n",
       "    <tr>\n",
       "      <th>3</th>\n",
       "      <td>4.4</td>\n",
       "      <td>5200.0</td>\n",
       "      <td>Petrol</td>\n",
       "    </tr>\n",
       "    <tr>\n",
       "      <th>4</th>\n",
       "      <td>NaN</td>\n",
       "      <td>42450.0</td>\n",
       "      <td>NaN</td>\n",
       "    </tr>\n",
       "  </tbody>\n",
       "</table>\n",
       "</div>"
      ],
      "text/plain": [
       "   Present_Price  Kms_Driven Fuel_Type\n",
       "0            5.0     27000.0    Petrol\n",
       "1            NaN     43000.0       NaN\n",
       "2            7.2         NaN    Diesel\n",
       "3            4.4      5200.0    Petrol\n",
       "4            NaN     42450.0       NaN"
      ]
     },
     "execution_count": 181,
     "metadata": {},
     "output_type": "execute_result"
    }
   ],
   "source": [
    "# 🧼 2. HANDLING MISSING VALUES\n",
    "# -------------------------------\n",
    "import pandas as pd\n",
    "import numpy as np\n",
    "from sklearn.impute import SimpleImputer, KNNImputer\n",
    "\n",
    "# 🧪 Sample DataFrame (with missing values for demo)\n",
    "data = {\n",
    "    'Present_Price': [5.0, np.nan, 7.2, 4.4, np.nan],\n",
    "    'Kms_Driven': [27000, 43000, np.nan, 5200, 42450],\n",
    "    'Fuel_Type': ['Petrol', np.nan, 'Diesel', 'Petrol', np.nan]\n",
    "}\n",
    "\n",
    "df = pd.DataFrame(data)\n",
    "df.head()\n"
   ]
  },
  {
   "cell_type": "code",
   "execution_count": 182,
   "id": "df29c581",
   "metadata": {},
   "outputs": [
    {
     "data": {
      "text/html": [
       "<div>\n",
       "<style scoped>\n",
       "    .dataframe tbody tr th:only-of-type {\n",
       "        vertical-align: middle;\n",
       "    }\n",
       "\n",
       "    .dataframe tbody tr th {\n",
       "        vertical-align: top;\n",
       "    }\n",
       "\n",
       "    .dataframe thead th {\n",
       "        text-align: right;\n",
       "    }\n",
       "</style>\n",
       "<table border=\"1\" class=\"dataframe\">\n",
       "  <thead>\n",
       "    <tr style=\"text-align: right;\">\n",
       "      <th></th>\n",
       "      <th>Present_Price</th>\n",
       "      <th>Kms_Driven</th>\n",
       "      <th>Fuel_Type</th>\n",
       "    </tr>\n",
       "  </thead>\n",
       "  <tbody>\n",
       "    <tr>\n",
       "      <th>1</th>\n",
       "      <td>NaN</td>\n",
       "      <td>43000.0</td>\n",
       "      <td>NaN</td>\n",
       "    </tr>\n",
       "    <tr>\n",
       "      <th>2</th>\n",
       "      <td>7.2</td>\n",
       "      <td>NaN</td>\n",
       "      <td>Diesel</td>\n",
       "    </tr>\n",
       "    <tr>\n",
       "      <th>4</th>\n",
       "      <td>NaN</td>\n",
       "      <td>42450.0</td>\n",
       "      <td>NaN</td>\n",
       "    </tr>\n",
       "  </tbody>\n",
       "</table>\n",
       "</div>"
      ],
      "text/plain": [
       "   Present_Price  Kms_Driven Fuel_Type\n",
       "1            NaN     43000.0       NaN\n",
       "2            7.2         NaN    Diesel\n",
       "4            NaN     42450.0       NaN"
      ]
     },
     "execution_count": 182,
     "metadata": {},
     "output_type": "execute_result"
    }
   ],
   "source": [
    "# 🕵️ Detecting missing values\n",
    "df.isnull().sum()         # Count missing per column\n",
    "df.isnull().any()         # Boolean flags\n",
    "df.isnull().mean()        # Percentage missing\n",
    "df[df.isnull().any(axis=1)]  # Rows with any missing values\n"
   ]
  },
  {
   "cell_type": "code",
   "execution_count": 183,
   "id": "d61c42d6",
   "metadata": {},
   "outputs": [],
   "source": [
    "# ❌ Dropping missing data (not always recommended)\n",
    "df_dropped_rows = df.dropna()         # Drop rows with any missing\n",
    "df_dropped_cols = df.dropna(axis=1)   # Drop columns with any missing\n"
   ]
  },
  {
   "cell_type": "code",
   "execution_count": 184,
   "id": "3123a375",
   "metadata": {},
   "outputs": [
    {
     "name": "stderr",
     "output_type": "stream",
     "text": [
      "/tmp/ipykernel_527535/2519718393.py:3: FutureWarning: A value is trying to be set on a copy of a DataFrame or Series through chained assignment using an inplace method.\n",
      "The behavior will change in pandas 3.0. This inplace method will never work because the intermediate object on which we are setting values always behaves as a copy.\n",
      "\n",
      "For example, when doing 'df[col].method(value, inplace=True)', try using 'df.method({col: value}, inplace=True)' or df[col] = df[col].method(value) instead, to perform the operation inplace on the original object.\n",
      "\n",
      "\n",
      "  df_manual_fill['Present_Price'].fillna(df['Present_Price'].mean(), inplace=True)\n",
      "/tmp/ipykernel_527535/2519718393.py:4: FutureWarning: A value is trying to be set on a copy of a DataFrame or Series through chained assignment using an inplace method.\n",
      "The behavior will change in pandas 3.0. This inplace method will never work because the intermediate object on which we are setting values always behaves as a copy.\n",
      "\n",
      "For example, when doing 'df[col].method(value, inplace=True)', try using 'df.method({col: value}, inplace=True)' or df[col] = df[col].method(value) instead, to perform the operation inplace on the original object.\n",
      "\n",
      "\n",
      "  df_manual_fill['Fuel_Type'].fillna('Petrol', inplace=True)\n"
     ]
    }
   ],
   "source": [
    "# ✅ Fill missing manually\n",
    "df_manual_fill = df.copy()\n",
    "df_manual_fill['Present_Price'].fillna(df['Present_Price'].mean(), inplace=True)\n",
    "df_manual_fill['Fuel_Type'].fillna('Petrol', inplace=True)\n"
   ]
  },
  {
   "cell_type": "markdown",
   "id": "3df839d6",
   "metadata": {},
   "source": [
    "### ▸ Simple Imputer\n",
    "\n"
   ]
  },
  {
   "cell_type": "code",
   "execution_count": 185,
   "id": "a6f64dfa",
   "metadata": {},
   "outputs": [],
   "source": [
    "# 🧠 SimpleImputer\n",
    "df_si = df.copy()\n",
    "\n",
    "imp_mean = SimpleImputer(strategy='mean')  # For numeric\n",
    "df_si[['Present_Price']] = imp_mean.fit_transform(df_si[['Present_Price']])\n",
    "\n",
    "imp_freq = SimpleImputer(strategy='most_frequent')  # For categorical\n",
    "df_si[['Fuel_Type']] = imp_freq.fit_transform(df_si[['Fuel_Type']])\n"
   ]
  },
  {
   "cell_type": "markdown",
   "id": "8186a0e6",
   "metadata": {},
   "source": [
    "### ▸ KNN Imputer"
   ]
  },
  {
   "cell_type": "code",
   "execution_count": 186,
   "id": "11b422a3",
   "metadata": {},
   "outputs": [],
   "source": [
    "# 🤖 KNNImputer (numeric only)\n",
    "df_knn = df.copy()\n",
    "df_knn_numeric = df_knn.select_dtypes(include='number')\n",
    "\n",
    "knn_imp = KNNImputer(n_neighbors=2)\n",
    "df_knn_imputed = pd.DataFrame(\n",
    "    knn_imp.fit_transform(df_knn_numeric),\n",
    "    columns=df_knn_numeric.columns\n",
    ")\n"
   ]
  },
  {
   "cell_type": "markdown",
   "id": "570fd3ad",
   "metadata": {},
   "source": [
    "## 🔍 3. Outlier Detection & Removal"
   ]
  },
  {
   "cell_type": "code",
   "execution_count": 187,
   "id": "40b42f5c",
   "metadata": {},
   "outputs": [
    {
     "name": "stdout",
     "output_type": "stream",
     "text": [
      "   Price  Mileage\n",
      "0     10    20000\n",
      "1     12    22000\n",
      "2     11    21000\n",
      "3     13    23000\n",
      "4     12    25000\n",
      "5     50    50000\n",
      "6     11    24000\n",
      "7     10    21000\n",
      "8     12    20000\n",
      "9     11    20500\n"
     ]
    }
   ],
   "source": [
    "# 🔍 3. OUTLIER DETECTION & REMOVAL\n",
    "# -----------------------------------\n",
    "import pandas as pd\n",
    "import numpy as np\n",
    "from sklearn.ensemble import IsolationForest\n",
    "from sklearn.neighbors import LocalOutlierFactor\n",
    "from sklearn.covariance import EllipticEnvelope\n",
    "from sklearn.cluster import DBSCAN\n",
    "from scipy.stats import zscore\n",
    "import matplotlib.pyplot as plt\n",
    "import seaborn as sns\n",
    "\n",
    "# 🧪 Sample DataFrame with numeric values\n",
    "data = {\n",
    "    'Price': [10, 12, 11, 13, 12, 50, 11, 10, 12, 11],\n",
    "    'Mileage': [20000, 22000, 21000, 23000, 25000, 50000, 24000, 21000, 20000, 20500]\n",
    "}\n",
    "\n",
    "df = pd.DataFrame(data)\n",
    "print(df)\n"
   ]
  },
  {
   "cell_type": "markdown",
   "id": "185e2f5d",
   "metadata": {},
   "source": [
    "### ▸ Interquartile Range (IQR)\n"
   ]
  },
  {
   "cell_type": "code",
   "execution_count": 188,
   "id": "aaecafc6",
   "metadata": {},
   "outputs": [],
   "source": [
    "Q1 = df.quantile(0.25)\n",
    "Q3 = df.quantile(0.75)\n",
    "IQR = Q3 - Q1\n",
    "\n",
    "# ✅ Filter out the outliers\n",
    "df_iqr = df[~((df < (Q1 - 1.5 * IQR)) | (df > (Q3 + 1.5 * IQR))).any(axis=1)]\n"
   ]
  },
  {
   "cell_type": "markdown",
   "id": "46aa1e2f",
   "metadata": {},
   "source": [
    "### ▸ Z-Score Method\n"
   ]
  },
  {
   "cell_type": "code",
   "execution_count": 189,
   "id": "54bdbcc0",
   "metadata": {},
   "outputs": [],
   "source": [
    "# Standardize and filter\n",
    "df_zscore = df[(np.abs(zscore(df)) < 3).all(axis=1)]\n"
   ]
  },
  {
   "cell_type": "markdown",
   "id": "eedfbba8",
   "metadata": {},
   "source": [
    "### ▸ Isolation Forest\n"
   ]
  },
  {
   "cell_type": "code",
   "execution_count": 190,
   "id": "8cafe75f",
   "metadata": {},
   "outputs": [],
   "source": [
    "iso = IsolationForest(contamination=0.1, random_state=42)\n",
    "outliers = iso.fit_predict(df)\n",
    "\n",
    "# Keep only normal rows (label 1)\n",
    "df_iforest = df[outliers == 1]\n"
   ]
  },
  {
   "cell_type": "markdown",
   "id": "6cbf24eb",
   "metadata": {},
   "source": [
    "### ▸ Local Outlier Factor (LOF)\n"
   ]
  },
  {
   "cell_type": "code",
   "execution_count": 191,
   "id": "1faaa5e6",
   "metadata": {},
   "outputs": [],
   "source": [
    "lof = LocalOutlierFactor(n_neighbors=5)\n",
    "labels = lof.fit_predict(df)\n",
    "\n",
    "df_lof = df[labels == 1]  # LOF: 1 = inlier, -1 = outlier\n"
   ]
  },
  {
   "cell_type": "markdown",
   "id": "77482d30",
   "metadata": {},
   "source": [
    "### ▸ Elliptic Envelope\n"
   ]
  },
  {
   "cell_type": "code",
   "execution_count": 192,
   "id": "bd55fe4d",
   "metadata": {},
   "outputs": [],
   "source": [
    "elliptic = EllipticEnvelope()\n",
    "labels = elliptic.fit_predict(df)\n",
    "\n",
    "df_elliptic = df[labels == 1]  # 1 = inlier, -1 = outlier\n"
   ]
  },
  {
   "cell_type": "markdown",
   "id": "0e1f9622",
   "metadata": {},
   "source": [
    "### ▸ DBSCAN (Outlier Detection)"
   ]
  },
  {
   "cell_type": "code",
   "execution_count": 193,
   "id": "e5ab14ac",
   "metadata": {},
   "outputs": [],
   "source": [
    "# Detects outliers as points not belonging to any dense cluster\n",
    "db = DBSCAN(eps=1000, min_samples=2)  # eps = neighborhood size, min_samples = minimum points in cluster\n",
    "labels = db.fit_predict(df)\n",
    "\n",
    "df_dbscan = df[labels != -1]  # -1 = noise/outlier\n"
   ]
  },
  {
   "cell_type": "markdown",
   "id": "17a5f384",
   "metadata": {},
   "source": [
    "## 🧠 4. Feature Engineering"
   ]
  },
  {
   "cell_type": "code",
   "execution_count": 194,
   "id": "18c8087f",
   "metadata": {},
   "outputs": [],
   "source": [
    "# 🧠 4. FEATURE ENGINEERING\n",
    "# ---------------------------\n",
    "import pandas as pd\n",
    "import numpy as np\n",
    "\n",
    "# 🧪 Sample DataFrame\n",
    "data = {\n",
    "    'Year': [2014, 2013, 2017, 2011, 2014],\n",
    "    'Present_Price': [5.59, 9.54, 9.85, 4.15, 6.87],\n",
    "    'Kms_Driven': [27000, 43000, 6900, 5200, 42450],\n",
    "    'Fuel_Type': ['Petrol', 'Diesel', 'Petrol', 'Petrol', 'Diesel'],\n",
    "    'Seller_Type': ['Dealer', 'Dealer', 'Dealer', 'Dealer', 'Dealer'],\n",
    "    'Transmission': ['Manual', 'Manual', 'Manual', 'Manual', 'Manual'],\n",
    "    'Owner': [0, 0, 0, 0, 0]\n",
    "}\n",
    "\n",
    "df = pd.DataFrame(data)\n"
   ]
  },
  {
   "cell_type": "code",
   "execution_count": 195,
   "id": "d22f2a02",
   "metadata": {},
   "outputs": [],
   "source": [
    "# Derive 'Age' from 'Year'\n",
    "maxYear = df['Year'].max()\n",
    "df['Age'] = maxYear + 1 - df['Year']\n",
    "\n",
    "# Drop 'Year' if 'Age' is used instead\n",
    "df.drop(columns='Year', inplace=True)\n"
   ]
  },
  {
   "cell_type": "code",
   "execution_count": 196,
   "id": "e4989548",
   "metadata": {},
   "outputs": [],
   "source": [
    "# Drop columns not useful for modeling (e.g., names or IDs)\n",
    "df = df.drop(columns=['Fuel_Type'])  # only if already encoded\n"
   ]
  },
  {
   "cell_type": "code",
   "execution_count": 197,
   "id": "08db0f52",
   "metadata": {},
   "outputs": [],
   "source": [
    "# Define feature groups by data type or role\n",
    "X_num = ['Present_Price', 'Kms_Driven', 'Age']\n",
    "X_cat = ['Seller_Type', 'Transmission']\n",
    "y = ['Owner']  # example target\n"
   ]
  },
  {
   "cell_type": "code",
   "execution_count": 198,
   "id": "6284cc61",
   "metadata": {},
   "outputs": [],
   "source": [
    "# You can drop low-variance columns or highly correlated features if needed\n",
    "# df = df.drop(columns=['SomeIrrelevantColumn'])\n"
   ]
  },
  {
   "cell_type": "markdown",
   "id": "949bc367",
   "metadata": {},
   "source": [
    "### ▸ Dropping Columns\n",
    "### ▸ Creating Derived Features\n",
    "### ▸ Feature Selection (if applicable)"
   ]
  },
  {
   "cell_type": "markdown",
   "id": "94d27c4c",
   "metadata": {},
   "source": [
    "## 🧱 5. Categorical Encoding"
   ]
  },
  {
   "cell_type": "code",
   "execution_count": 199,
   "id": "16a91031",
   "metadata": {},
   "outputs": [],
   "source": [
    "# 🧱 5. CATEGORICAL ENCODING\n",
    "# ---------------------------\n",
    "import pandas as pd\n",
    "from sklearn.preprocessing import OneHotEncoder, OrdinalEncoder\n",
    "\n",
    "# 🧪 Sample DataFrame\n",
    "df = pd.DataFrame({\n",
    "    'Fuel_Type': ['Petrol', 'Diesel', 'Petrol', 'CNG', 'Diesel'],\n",
    "    'Transmission': ['Manual', 'Automatic', 'Manual', 'Manual', 'Automatic'],\n",
    "    'Education': ['High School', 'Diploma', 'Bachelor', 'Diploma', 'Bachelor']\n",
    "})\n"
   ]
  },
  {
   "cell_type": "markdown",
   "id": "5a97eebf",
   "metadata": {},
   "source": [
    "### ▸ One-Hot Encoding (`pd.get_dummies`)\n"
   ]
  },
  {
   "cell_type": "code",
   "execution_count": 200,
   "id": "56f69746",
   "metadata": {},
   "outputs": [],
   "source": [
    "# Encodes categories as separate columns (1 or 0)\n",
    "df_dummies = pd.get_dummies(df, drop_first=True)  # drop_first=True to avoid multicollinearity\n"
   ]
  },
  {
   "cell_type": "markdown",
   "id": "1e2e4c0e",
   "metadata": {},
   "source": [
    "### ▸ Scikit-learn OneHotEncoder\n"
   ]
  },
  {
   "cell_type": "code",
   "execution_count": 201,
   "id": "91c0c55a",
   "metadata": {},
   "outputs": [],
   "source": [
    "ohe = OneHotEncoder(drop='first', sparse_output=False)\n",
    "encoded_array = ohe.fit_transform(df[['Fuel_Type']])\n",
    "\n",
    "# Convert back to DataFrame\n",
    "df_ohe = pd.DataFrame(encoded_array, columns=ohe.get_feature_names_out(['Fuel_Type']))\n"
   ]
  },
  {
   "cell_type": "markdown",
   "id": "42d81bd3",
   "metadata": {},
   "source": [
    "### ▸ Ordinal Encoding"
   ]
  },
  {
   "cell_type": "code",
   "execution_count": 202,
   "id": "56bb946c",
   "metadata": {},
   "outputs": [],
   "source": [
    "# Ordered education levels\n",
    "ordered_edu = ['High School', 'Diploma', 'Bachelor']\n",
    "\n",
    "ordinal = OrdinalEncoder(categories=[ordered_edu])\n",
    "df['Education_encoded'] = ordinal.fit_transform(df[['Education']])\n"
   ]
  },
  {
   "cell_type": "markdown",
   "id": "b86bfdc0",
   "metadata": {},
   "source": [
    "## 📏 6. Feature Scaling & Transformation"
   ]
  },
  {
   "cell_type": "code",
   "execution_count": 203,
   "id": "b8a36139",
   "metadata": {},
   "outputs": [],
   "source": [
    "# 📏 6. FEATURE SCALING & TRANSFORMATION\n",
    "# ---------------------------------------\n",
    "import pandas as pd\n",
    "from sklearn.preprocessing import (\n",
    "    StandardScaler, MinMaxScaler, RobustScaler, MaxAbsScaler,\n",
    "    QuantileTransformer, PowerTransformer\n",
    ")\n",
    "\n",
    "# 🧪 Sample DataFrame\n",
    "df = pd.DataFrame({\n",
    "    'Present_Price': [5.59, 9.54, 9.85, 4.15, 6.87],\n",
    "    'Kms_Driven': [27000, 43000, 6900, 5200, 42450],\n",
    "    'Owner': [0, 0, 0, 0, 0]\n",
    "})\n"
   ]
  },
  {
   "cell_type": "markdown",
   "id": "fbab56c7",
   "metadata": {},
   "source": [
    "### ▸ StandardScaler\n"
   ]
  },
  {
   "cell_type": "code",
   "execution_count": 204,
   "id": "9380c38a",
   "metadata": {},
   "outputs": [],
   "source": [
    "scaler = StandardScaler()\n",
    "scaled_std = scaler.fit_transform(df)\n",
    "\n",
    "df_std = pd.DataFrame(scaled_std, columns=df.columns)\n"
   ]
  },
  {
   "cell_type": "markdown",
   "id": "3875c613",
   "metadata": {},
   "source": [
    "### ▸ MinMaxScaler\n"
   ]
  },
  {
   "cell_type": "code",
   "execution_count": 205,
   "id": "3de00c09",
   "metadata": {},
   "outputs": [],
   "source": [
    "scaler = MinMaxScaler()\n",
    "scaled_minmax = scaler.fit_transform(df)\n",
    "\n",
    "df_minmax = pd.DataFrame(scaled_minmax, columns=df.columns)\n"
   ]
  },
  {
   "cell_type": "markdown",
   "id": "159114dc",
   "metadata": {},
   "source": [
    "### ▸ RobustScaler\n"
   ]
  },
  {
   "cell_type": "code",
   "execution_count": 206,
   "id": "f88ab2a8",
   "metadata": {},
   "outputs": [],
   "source": [
    "scaler = RobustScaler()\n",
    "scaled_robust = scaler.fit_transform(df)\n",
    "\n",
    "df_robust = pd.DataFrame(scaled_robust, columns=df.columns)\n"
   ]
  },
  {
   "cell_type": "markdown",
   "id": "7087e33f",
   "metadata": {},
   "source": [
    "### ▸ MaxAbsScaler\n"
   ]
  },
  {
   "cell_type": "code",
   "execution_count": 207,
   "id": "1c8c8bca",
   "metadata": {},
   "outputs": [],
   "source": [
    "scaler = MaxAbsScaler()\n",
    "scaled_maxabs = scaler.fit_transform(df)\n",
    "\n",
    "df_maxabs = pd.DataFrame(scaled_maxabs, columns=df.columns)"
   ]
  },
  {
   "cell_type": "markdown",
   "id": "634d3d4a",
   "metadata": {},
   "source": [
    "### ▸ QuantileTransformer"
   ]
  },
  {
   "cell_type": "code",
   "execution_count": 208,
   "id": "d9867848",
   "metadata": {},
   "outputs": [
    {
     "name": "stderr",
     "output_type": "stream",
     "text": [
      "/home/zeldean/Second-Brain/{20} Bachelor of Computing/3 Year/MLG382/Code/.venv/lib/python3.11/site-packages/sklearn/preprocessing/_data.py:2829: UserWarning: n_quantiles (1000) is greater than the total number of samples (5). n_quantiles is set to n_samples.\n",
      "  warnings.warn(\n"
     ]
    }
   ],
   "source": [
    "qt = QuantileTransformer(output_distribution='normal', random_state=42)\n",
    "scaled_qt = qt.fit_transform(df)\n",
    "\n",
    "df_qt = pd.DataFrame(scaled_qt, columns=df.columns)\n"
   ]
  },
  {
   "cell_type": "markdown",
   "id": "c3d0922d",
   "metadata": {},
   "source": [
    "### ▸ PowerTransformer\n"
   ]
  },
  {
   "cell_type": "markdown",
   "id": "fc7abaa0",
   "metadata": {},
   "source": [
    "#### ▸ Yeo-Johnson\n"
   ]
  },
  {
   "cell_type": "code",
   "execution_count": 209,
   "id": "b540ac8b",
   "metadata": {},
   "outputs": [],
   "source": [
    "# Yeo-Johnson works with 0 and negative values\n",
    "pt_yeo = PowerTransformer(method='yeo-johnson')\n",
    "df_yeo = pd.DataFrame(pt_yeo.fit_transform(df), columns=df.columns)\n"
   ]
  },
  {
   "cell_type": "markdown",
   "id": "1239eea0",
   "metadata": {},
   "source": [
    "#### ▸ Box-Cox (positive only)"
   ]
  },
  {
   "cell_type": "code",
   "execution_count": 210,
   "id": "782ecd81",
   "metadata": {},
   "outputs": [],
   "source": [
    "\n",
    "# # Box-Cox only for strictly positive data\n",
    "# pt_box = PowerTransformer(method='box-cox')\n",
    "# df_positive = df[df > 0]  # Ensure all values > 0\n",
    "# df_box = pd.DataFrame(pt_box.fit_transform(df_positive), columns=df.columns)\n"
   ]
  },
  {
   "cell_type": "markdown",
   "id": "e9535b2b",
   "metadata": {},
   "source": [
    "## 📐 7. Data Splitting"
   ]
  },
  {
   "cell_type": "code",
   "execution_count": 211,
   "id": "d510715a",
   "metadata": {},
   "outputs": [],
   "source": [
    "# 📐 7. DATA SPLITTING\n",
    "# ---------------------\n",
    "from sklearn.model_selection import train_test_split\n",
    "import pandas as pd\n",
    "\n",
    "# 🧪 Sample DataFrame (features + target)\n",
    "df = pd.DataFrame({\n",
    "    'Present_Price': [5.59, 9.54, 9.85, 4.15, 6.87],\n",
    "    'Kms_Driven': [27000, 43000, 6900, 5200, 42450],\n",
    "    'Age': [9, 10, 6, 12, 9],\n",
    "    'Selling_Price': [3.35, 4.75, 7.25, 2.85, 4.60]  # target\n",
    "})\n",
    "\n",
    "# Split features and target\n",
    "X = df.drop(columns='Selling_Price')   # Features\n",
    "y = df['Selling_Price']                # Target\n"
   ]
  },
  {
   "cell_type": "markdown",
   "id": "566ca753",
   "metadata": {},
   "source": [
    "### ▸ Train-Test Split"
   ]
  },
  {
   "cell_type": "code",
   "execution_count": 212,
   "id": "77f6b8de",
   "metadata": {},
   "outputs": [],
   "source": [
    "X_train, X_test, y_train, y_test = train_test_split(\n",
    "    X, y, test_size=0.2, random_state=42\n",
    ")\n"
   ]
  },
  {
   "cell_type": "markdown",
   "id": "bb469a38",
   "metadata": {},
   "source": [
    "## 🤖 8. Model Training"
   ]
  },
  {
   "cell_type": "markdown",
   "id": "031b8ee8",
   "metadata": {},
   "source": [
    "\n",
    "### 🔹 Regression Models\n"
   ]
  },
  {
   "cell_type": "markdown",
   "id": "6fc1fb29",
   "metadata": {},
   "source": [
    "#### ▸ Linear Regression\n"
   ]
  },
  {
   "cell_type": "code",
   "execution_count": 213,
   "id": "1368dc56",
   "metadata": {},
   "outputs": [],
   "source": [
    "# 🤖 8A. LINEAR REGRESSION\n",
    "# -------------------------\n",
    "from sklearn.linear_model import LinearRegression\n",
    "\n",
    "model_lr = LinearRegression()\n",
    "model_lr.fit(X_train, y_train)  # Train the model\n",
    "y_pred = model_lr.predict(X_test)  # Predict on test set\n"
   ]
  },
  {
   "cell_type": "code",
   "execution_count": 214,
   "id": "04762176",
   "metadata": {},
   "outputs": [],
   "source": [
    "# 🤖 8B. POLYNOMIAL REGRESSION\n",
    "# -----------------------------\n",
    "from sklearn.preprocessing import PolynomialFeatures\n",
    "\n",
    "poly = PolynomialFeatures(degree=2)  # degree=2 for quadratic\n",
    "X_train_poly = poly.fit_transform(X_train)\n",
    "X_test_poly = poly.transform(X_test)\n",
    "\n",
    "model_poly = LinearRegression()\n",
    "model_poly.fit(X_train_poly, y_train)\n",
    "y_poly_pred = model_poly.predict(X_test_poly)\n"
   ]
  },
  {
   "cell_type": "code",
   "execution_count": 215,
   "id": "cc5650e2",
   "metadata": {},
   "outputs": [],
   "source": [
    "# 🤖 8C. DECISION TREE REGRESSOR\n",
    "# -------------------------------\n",
    "from sklearn.tree import DecisionTreeRegressor\n",
    "\n",
    "model_dtr = DecisionTreeRegressor(max_depth=4, random_state=42)\n",
    "model_dtr.fit(X_train, y_train)\n",
    "y_tree_pred = model_dtr.predict(X_test)\n"
   ]
  },
  {
   "cell_type": "code",
   "execution_count": 216,
   "id": "1a581d4b",
   "metadata": {},
   "outputs": [],
   "source": [
    "# 🤖 8D. RANDOM FOREST REGRESSOR\n",
    "# -------------------------------\n",
    "from sklearn.ensemble import RandomForestRegressor\n",
    "\n",
    "model_rf = RandomForestRegressor(n_estimators=100, random_state=42)\n",
    "model_rf.fit(X_train, y_train)\n",
    "y_rf_pred = model_rf.predict(X_test)\n"
   ]
  },
  {
   "cell_type": "code",
   "execution_count": 217,
   "id": "48f12af2",
   "metadata": {},
   "outputs": [],
   "source": [
    "# 🤖 8E. SUPPORT VECTOR REGRESSOR (SVR)\n",
    "# -------------------------------------\n",
    "from sklearn.svm import SVR\n",
    "from sklearn.preprocessing import StandardScaler\n",
    "\n",
    "# SVR needs scaled features\n",
    "scaler = StandardScaler()\n",
    "X_train_scaled = scaler.fit_transform(X_train)\n",
    "X_test_scaled = scaler.transform(X_test)\n",
    "\n",
    "model_svr = SVR(kernel='rbf')\n",
    "model_svr.fit(X_train_scaled, y_train)\n",
    "y_svr_pred = model_svr.predict(X_test_scaled)\n"
   ]
  },
  {
   "cell_type": "code",
   "execution_count": 218,
   "id": "6c634ec7",
   "metadata": {},
   "outputs": [
    {
     "name": "stderr",
     "output_type": "stream",
     "text": [
      "/home/zeldean/Second-Brain/{20} Bachelor of Computing/3 Year/MLG382/Code/.venv/lib/python3.11/site-packages/keras/src/layers/core/dense.py:87: UserWarning: Do not pass an `input_shape`/`input_dim` argument to a layer. When using Sequential models, prefer using an `Input(shape)` object as the first layer in the model instead.\n",
      "  super().__init__(activity_regularizer=activity_regularizer, **kwargs)\n"
     ]
    },
    {
     "name": "stdout",
     "output_type": "stream",
     "text": [
      "\u001b[1m1/1\u001b[0m \u001b[32m━━━━━━━━━━━━━━━━━━━━\u001b[0m\u001b[37m\u001b[0m \u001b[1m0s\u001b[0m 38ms/step\n"
     ]
    }
   ],
   "source": [
    "# 🤖 8F. ARTIFICIAL NEURAL NETWORK (Keras)\n",
    "# -----------------------------------------\n",
    "from keras.models import Sequential\n",
    "from keras.layers import Dense\n",
    "\n",
    "model_ann = Sequential()\n",
    "model_ann.add(Dense(10, activation='relu', input_shape=(X_train.shape[1],)))\n",
    "model_ann.add(Dense(5, activation='relu'))\n",
    "model_ann.add(Dense(1))  # Single output (regression)\n",
    "\n",
    "model_ann.compile(optimizer='adam', loss='mse')\n",
    "model_ann.fit(X_train, y_train, epochs=100, verbose=0, validation_split=0.2)\n",
    "\n",
    "y_ann_pred = model_ann.predict(X_test)\n"
   ]
  },
  {
   "cell_type": "markdown",
   "id": "b882fb16",
   "metadata": {},
   "source": [
    "### 🔸 Classification Models\n"
   ]
  },
  {
   "cell_type": "code",
   "execution_count": 219,
   "id": "f62754ea",
   "metadata": {},
   "outputs": [],
   "source": [
    "import numpy as np\n",
    "\n",
    "# Add fake binary classification target (0 = Manual, 1 = Automatic)\n",
    "df['Transmission'] = np.random.choice([0, 1], size=len(df))\n",
    "\n",
    "# Now set it as the classification target\n",
    "X = df.drop(columns='Transmission')\n",
    "y_class = df['Transmission']\n"
   ]
  },
  {
   "cell_type": "code",
   "execution_count": 220,
   "id": "e8737eb2",
   "metadata": {},
   "outputs": [],
   "source": [
    "y_class = df['Transmission']\n",
    "# .map({'Manual': 0, 'Automatic': 1})  # Binary target\n"
   ]
  },
  {
   "cell_type": "code",
   "execution_count": 221,
   "id": "d49363b5",
   "metadata": {},
   "outputs": [],
   "source": [
    "X_train, X_test, y_train, y_test = train_test_split(X, y_class, test_size=0.2, random_state=42)\n"
   ]
  },
  {
   "cell_type": "code",
   "execution_count": 222,
   "id": "4d9c378e",
   "metadata": {},
   "outputs": [
    {
     "name": "stderr",
     "output_type": "stream",
     "text": [
      "/home/zeldean/Second-Brain/{20} Bachelor of Computing/3 Year/MLG382/Code/.venv/lib/python3.11/site-packages/sklearn/linear_model/_logistic.py:465: ConvergenceWarning: lbfgs failed to converge (status=1):\n",
      "STOP: TOTAL NO. OF ITERATIONS REACHED LIMIT.\n",
      "\n",
      "Increase the number of iterations (max_iter) or scale the data as shown in:\n",
      "    https://scikit-learn.org/stable/modules/preprocessing.html\n",
      "Please also refer to the documentation for alternative solver options:\n",
      "    https://scikit-learn.org/stable/modules/linear_model.html#logistic-regression\n",
      "  n_iter_i = _check_optimize_result(\n"
     ]
    }
   ],
   "source": [
    "# 🤖 8B1. LOGISTIC REGRESSION\n",
    "# ---------------------------\n",
    "from sklearn.linear_model import LogisticRegression\n",
    "\n",
    "model_log = LogisticRegression()\n",
    "model_log.fit(X_train, y_train)\n",
    "y_log_pred = model_log.predict(X_test)\n"
   ]
  },
  {
   "cell_type": "code",
   "execution_count": 223,
   "id": "69178a18",
   "metadata": {},
   "outputs": [],
   "source": [
    "# 🤖 8B2. DECISION TREE CLASSIFIER\n",
    "# --------------------------------\n",
    "from sklearn.tree import DecisionTreeClassifier\n",
    "\n",
    "model_tree = DecisionTreeClassifier(max_depth=4, random_state=42)\n",
    "model_tree.fit(X_train, y_train)\n",
    "y_tree_pred = model_tree.predict(X_test)\n"
   ]
  },
  {
   "cell_type": "code",
   "execution_count": 224,
   "id": "3d42dab1",
   "metadata": {},
   "outputs": [],
   "source": [
    "# 🤖 8B3. RANDOM FOREST CLASSIFIER\n",
    "# --------------------------------\n",
    "from sklearn.ensemble import RandomForestClassifier\n",
    "\n",
    "model_rf = RandomForestClassifier(n_estimators=100, random_state=42)\n",
    "model_rf.fit(X_train, y_train)\n",
    "y_rf_pred = model_rf.predict(X_test)\n"
   ]
  },
  {
   "cell_type": "code",
   "execution_count": 225,
   "id": "c5f68dbb",
   "metadata": {},
   "outputs": [],
   "source": [
    "# 🤖 8B4. SUPPORT VECTOR MACHINE (SVC)\n",
    "# -------------------------------------\n",
    "from sklearn.svm import SVC\n",
    "from sklearn.preprocessing import StandardScaler\n",
    "\n",
    "# SVC needs scaled input\n",
    "scaler = StandardScaler()\n",
    "X_train_scaled = scaler.fit_transform(X_train)\n",
    "X_test_scaled = scaler.transform(X_test)\n",
    "\n",
    "model_svc = SVC(kernel='linear')\n",
    "model_svc.fit(X_train_scaled, y_train)\n",
    "y_svc_pred = model_svc.predict(X_test_scaled)\n"
   ]
  },
  {
   "cell_type": "code",
   "execution_count": 226,
   "id": "b66367b9",
   "metadata": {},
   "outputs": [],
   "source": [
    "# 🤖 8B5. K-NEAREST NEIGHBORS CLASSIFIER\n",
    "# ---------------------------------------\n",
    "from sklearn.neighbors import KNeighborsClassifier\n",
    "\n",
    "model_knn = KNeighborsClassifier(n_neighbors=3)\n",
    "model_knn.fit(X_train, y_train)\n",
    "y_knn_pred = model_knn.predict(X_test)\n"
   ]
  },
  {
   "cell_type": "code",
   "execution_count": 227,
   "id": "e88ab50e",
   "metadata": {},
   "outputs": [
    {
     "name": "stderr",
     "output_type": "stream",
     "text": [
      "/home/zeldean/Second-Brain/{20} Bachelor of Computing/3 Year/MLG382/Code/.venv/lib/python3.11/site-packages/keras/src/layers/core/dense.py:87: UserWarning: Do not pass an `input_shape`/`input_dim` argument to a layer. When using Sequential models, prefer using an `Input(shape)` object as the first layer in the model instead.\n",
      "  super().__init__(activity_regularizer=activity_regularizer, **kwargs)\n"
     ]
    },
    {
     "name": "stdout",
     "output_type": "stream",
     "text": [
      "\u001b[1m1/1\u001b[0m \u001b[32m━━━━━━━━━━━━━━━━━━━━\u001b[0m\u001b[37m\u001b[0m \u001b[1m0s\u001b[0m 38ms/step\n"
     ]
    }
   ],
   "source": [
    "# 🤖 8B6. ARTIFICIAL NEURAL NETWORK (Keras, Classification)\n",
    "# ----------------------------------------------------------\n",
    "from keras.models import Sequential\n",
    "from keras.layers import Dense\n",
    "\n",
    "model_ann = Sequential()\n",
    "model_ann.add(Dense(10, activation='relu', input_shape=(X_train.shape[1],)))\n",
    "model_ann.add(Dense(5, activation='relu'))\n",
    "model_ann.add(Dense(1, activation='sigmoid'))  # Sigmoid for binary\n",
    "\n",
    "model_ann.compile(optimizer='adam', loss='binary_crossentropy', metrics=['accuracy'])\n",
    "model_ann.fit(X_train, y_train, epochs=100, verbose=0, validation_split=0.2)\n",
    "\n",
    "y_ann_pred = (model_ann.predict(X_test) > 0.5).astype(int)  # threshold for class\n"
   ]
  },
  {
   "cell_type": "markdown",
   "id": "1743b640",
   "metadata": {},
   "source": [
    "### 🔘 Clustering Models\n"
   ]
  },
  {
   "cell_type": "code",
   "execution_count": 228,
   "id": "2b8260a1",
   "metadata": {},
   "outputs": [],
   "source": [
    "# 🤖 8C. CLUSTERING MODELS\n",
    "# --------------------------\n",
    "import pandas as pd\n",
    "import numpy as np\n",
    "from sklearn.cluster import KMeans, DBSCAN\n",
    "import seaborn as sns\n",
    "import matplotlib.pyplot as plt\n",
    "\n",
    "# 🧪 Sample Data (2D for visualization)\n",
    "df = pd.DataFrame({\n",
    "    'Price': [5.0, 5.2, 5.3, 7.5, 8.0, 7.8, 15.0, 15.2, 16.0],\n",
    "    'Mileage': [20000, 21000, 20500, 40000, 42000, 41000, 60000, 59000, 62000]\n",
    "})\n"
   ]
  },
  {
   "cell_type": "code",
   "execution_count": 229,
   "id": "3df1ac42",
   "metadata": {},
   "outputs": [
    {
     "data": {
      "image/png": "[encoded data removed]",
      "text/plain": [
       "<Figure size 640x480 with 1 Axes>"
      ]
     },
     "metadata": {},
     "output_type": "display_data"
    },
    {
     "name": "stdout",
     "output_type": "stream",
     "text": [
      "Inertia: 7166667.4\n"
     ]
    }
   ],
   "source": [
    "# Cluster into 3 groups\n",
    "kmeans = KMeans(n_clusters=3, random_state=42)\n",
    "df['Cluster'] = kmeans.fit_predict(df[['Price', 'Mileage']])\n",
    "\n",
    "# Plot the result\n",
    "sns.scatterplot(data=df, x='Price', y='Mileage', hue='Cluster', palette='Set2')\n",
    "plt.title('K-Means Clustering')\n",
    "plt.tight_layout()\n",
    "plt.show()\n",
    "\n",
    "# 📌 Inertia (total within-cluster distance)\n",
    "print(\"Inertia:\", kmeans.inertia_)  # Lower is better (used for elbow method)\n"
   ]
  },
  {
   "cell_type": "code",
   "execution_count": 230,
   "id": "7bf42b49",
   "metadata": {},
   "outputs": [
    {
     "data": {
      "image/png": "[encoded data removed]",
      "text/plain": [
       "<Figure size 640x480 with 1 Axes>"
      ]
     },
     "metadata": {},
     "output_type": "display_data"
    }
   ],
   "source": [
    "# eps = radius of neighborhood, min_samples = minimum points in cluster\n",
    "dbscan = DBSCAN(eps=1500, min_samples=2)\n",
    "df['DBSCAN_Cluster'] = dbscan.fit_predict(df[['Price', 'Mileage']])\n",
    "\n",
    "# Plot DBSCAN result\n",
    "sns.scatterplot(data=df, x='Price', y='Mileage', hue='DBSCAN_Cluster', palette='Set1')\n",
    "plt.title('DBSCAN Clustering')\n",
    "plt.tight_layout()\n",
    "plt.show()\n",
    "\n",
    "# 📌 -1 means noise (outlier)\n"
   ]
  },
  {
   "cell_type": "code",
   "execution_count": 232,
   "id": "984855dc",
   "metadata": {},
   "outputs": [
    {
     "data": {
      "image/png": "[encoded data removed]",
      "text/plain": [
       "<Figure size 600x600 with 1 Axes>"
      ]
     },
     "metadata": {},
     "output_type": "display_data"
    }
   ],
   "source": [
    "import numpy as np\n",
    "import pandas as pd\n",
    "import matplotlib.pyplot as plt\n",
    "import seaborn as sns\n",
    "from sklearn.cluster import KMeans\n",
    "\n",
    "# 🧪 Sample 2D Data (for cluster separation)\n",
    "df = pd.DataFrame({\n",
    "    'Feature1': [1, 2, 3, 8, 9, 10, 4, 4.5, 9.5],\n",
    "    'Feature2': [1, 1.5, 1.2, 8, 9, 9.2, 5, 5.5, 9.8]\n",
    "})\n",
    "\n",
    "# 🔘 Fit KMeans\n",
    "model = KMeans(n_clusters=3, random_state=42)\n",
    "model.fit(df[['Feature1', 'Feature2']])\n",
    "df['Cluster'] = model.labels_\n",
    "\n",
    "# 🎯 Create Mesh Grid for decision boundary\n",
    "X1, X2 = np.meshgrid(\n",
    "    np.arange(start=df['Feature1'].min() - 1, stop=df['Feature1'].max() + 1, step=0.1),\n",
    "    np.arange(start=df['Feature2'].min() - 1, stop=df['Feature2'].max() + 1, step=0.1)\n",
    ")\n",
    "\n",
    "# Predict cluster for each point in grid\n",
    "grid_points = pd.DataFrame({'Feature1': X1.ravel(), 'Feature2': X2.ravel()})\n",
    "grid_labels = model.predict(grid_points)\n",
    "\n",
    "# 🖼️ Plot clusters and decision regions\n",
    "fig, ax = plt.subplots(figsize=(6, 6))\n",
    "\n",
    "# Contour regions\n",
    "ax.contourf(X1, X2, grid_labels.reshape(X1.shape), alpha=0.15, cmap=plt.cm.jet)\n",
    "\n",
    "# Scatter plot of real points\n",
    "sns.scatterplot(data=df, x='Feature1', y='Feature2', hue='Cluster', palette='muted', ax=ax, edgecolor='black')\n",
    "\n",
    "# Plot centroids\n",
    "centroids = model.cluster_centers_\n",
    "ax.scatter(centroids[:, 0], centroids[:, 1], s=200, c='black', marker='X', label='Centroids')\n",
    "\n",
    "plt.title(\"KMeans Clustering - Decision Regions\")\n",
    "plt.xlabel(\"Feature 1\")\n",
    "plt.ylabel(\"Feature 2\")\n",
    "plt.legend(bbox_to_anchor=(1.05, 1.0), loc='upper left')\n",
    "plt.tight_layout()\n",
    "plt.show()\n"
   ]
  },
  {
   "cell_type": "markdown",
   "id": "94138827",
   "metadata": {},
   "source": [
    "## 📈 9. Evaluation Metrics"
   ]
  },
  {
   "cell_type": "markdown",
   "id": "8263a32d",
   "metadata": {},
   "source": [
    "\n",
    "### 📉 Regression Evaluation\n",
    "#### ▸ R² Score\n",
    "#### ▸ Mean Squared Error (MSE)\n",
    "#### ▸ Mean Absolute Error (MAE)\n",
    "\n",
    "### 📊 Classification Evaluation\n",
    "#### ▸ Accuracy\n",
    "#### ▸ Precision\n",
    "#### ▸ Recall\n",
    "#### ▸ F1 Score\n",
    "#### ▸ Confusion Matrix\n",
    "#### ▸ Classification Report\n",
    "#### ▸ ROC AUC Score\n",
    "#### ▸ Log Loss\n",
    "#### ▸ Matthews Correlation Coefficient"
   ]
  },
  {
   "cell_type": "markdown",
   "id": "324f0bc5",
   "metadata": {},
   "source": [
    "## 📊 10. Visualizations"
   ]
  },
  {
   "cell_type": "code",
   "execution_count": 233,
   "id": "b0c8e88a",
   "metadata": {},
   "outputs": [],
   "source": [
    "import pandas as pd\n",
    "import seaborn as sns\n",
    "import matplotlib.pyplot as plt\n",
    "\n",
    "# 🧪 Example DataFrame\n",
    "df = pd.DataFrame({\n",
    "    'Selling_Price': [3.35, 4.75, 7.25, 2.85, 4.60],\n",
    "    'Present_Price': [5.59, 9.54, 9.85, 4.15, 6.87],\n",
    "    'Kms_Driven': [27000, 43000, 6900, 5200, 42450],\n",
    "    'Fuel_Type': ['Petrol', 'Diesel', 'Petrol', 'Petrol', 'Diesel']\n",
    "})\n"
   ]
  },
  {
   "cell_type": "code",
   "execution_count": 234,
   "id": "af4c976d",
   "metadata": {},
   "outputs": [
    {
     "data": {
      "text/plain": [
       "<Axes: xlabel='Selling_Price', ylabel='Count'>"
      ]
     },
     "execution_count": 234,
     "metadata": {},
     "output_type": "execute_result"
    },
    {
     "data": {
      "image/png": "[encoded data removed]",
      "text/plain": [
       "<Figure size 640x480 with 1 Axes>"
      ]
     },
     "metadata": {},
     "output_type": "display_data"
    }
   ],
   "source": [
    "sns.histplot(data=df, x='Selling_Price', bins=10, kde=True)\n",
    "# bins = number of bars\n",
    "# kde=True adds a smoothed line over the bars\n"
   ]
  },
  {
   "cell_type": "code",
   "execution_count": 235,
   "id": "5970db50",
   "metadata": {},
   "outputs": [
    {
     "data": {
      "text/plain": [
       "<Axes: xlabel='Fuel_Type', ylabel='Selling_Price'>"
      ]
     },
     "execution_count": 235,
     "metadata": {},
     "output_type": "execute_result"
    },
    {
     "data": {
      "image/png": "[encoded data removed]",
      "text/plain": [
       "<Figure size 640x480 with 1 Axes>"
      ]
     },
     "metadata": {},
     "output_type": "display_data"
    }
   ],
   "source": [
    "sns.boxplot(data=df, x='Fuel_Type', y='Selling_Price')\n",
    "# orient='h' → horizontal\n",
    "# hue='AnotherColumn' → split groups within box\n"
   ]
  },
  {
   "cell_type": "code",
   "execution_count": 236,
   "id": "b4b6d38d",
   "metadata": {},
   "outputs": [
    {
     "data": {
      "text/plain": [
       "<seaborn.axisgrid.PairGrid at 0x7309cc24dc90>"
      ]
     },
     "execution_count": 236,
     "metadata": {},
     "output_type": "execute_result"
    },
    {
     "data": {
      "image/png": "[encoded data removed]",
      "text/plain": [
       "<Figure size 842.625x750 with 9 Axes>"
      ]
     },
     "metadata": {},
     "output_type": "display_data"
    }
   ],
   "source": [
    "sns.pairplot(df, hue='Fuel_Type', corner=True)\n",
    "# corner=True removes top-right mirrored plots\n",
    "# diag_kind='kde' for smoothed diagonals\n"
   ]
  },
  {
   "cell_type": "code",
   "execution_count": 237,
   "id": "8aaec2ac",
   "metadata": {},
   "outputs": [
    {
     "ename": "ValueError",
     "evalue": "could not convert string to float: 'Petrol'",
     "output_type": "error",
     "traceback": [
      "\u001b[31m---------------------------------------------------------------------------\u001b[39m",
      "\u001b[31mValueError\u001b[39m                                Traceback (most recent call last)",
      "\u001b[36mCell\u001b[39m\u001b[36m \u001b[39m\u001b[32mIn[237]\u001b[39m\u001b[32m, line 2\u001b[39m\n\u001b[32m      1\u001b[39m plt.figure(figsize=(\u001b[32m6\u001b[39m, \u001b[32m4\u001b[39m))\n\u001b[32m----> \u001b[39m\u001b[32m2\u001b[39m sns.heatmap(\u001b[43mdf\u001b[49m\u001b[43m.\u001b[49m\u001b[43mcorr\u001b[49m\u001b[43m(\u001b[49m\u001b[43m)\u001b[49m, annot=\u001b[38;5;28;01mTrue\u001b[39;00m, cmap=\u001b[33m'\u001b[39m\u001b[33mcoolwarm\u001b[39m\u001b[33m'\u001b[39m, fmt=\u001b[33m\"\u001b[39m\u001b[33m.2f\u001b[39m\u001b[33m\"\u001b[39m, linewidths=\u001b[32m0.5\u001b[39m)\n\u001b[32m      3\u001b[39m \u001b[38;5;66;03m# cmap options: 'viridis', 'YlGnBu', 'magma', etc.\u001b[39;00m\n\u001b[32m      4\u001b[39m \u001b[38;5;66;03m# annot=True shows correlation values\u001b[39;00m\n\u001b[32m      5\u001b[39m \u001b[38;5;66;03m# linewidths=0.5 adds space between cells\u001b[39;00m\n",
      "\u001b[36mFile \u001b[39m\u001b[32m~/Second-Brain/{20} Bachelor of Computing/3 Year/MLG382/Code/.venv/lib/python3.11/site-packages/pandas/core/frame.py:11049\u001b[39m, in \u001b[36mDataFrame.corr\u001b[39m\u001b[34m(self, method, min_periods, numeric_only)\u001b[39m\n\u001b[32m  11047\u001b[39m cols = data.columns\n\u001b[32m  11048\u001b[39m idx = cols.copy()\n\u001b[32m> \u001b[39m\u001b[32m11049\u001b[39m mat = \u001b[43mdata\u001b[49m\u001b[43m.\u001b[49m\u001b[43mto_numpy\u001b[49m\u001b[43m(\u001b[49m\u001b[43mdtype\u001b[49m\u001b[43m=\u001b[49m\u001b[38;5;28;43mfloat\u001b[39;49m\u001b[43m,\u001b[49m\u001b[43m \u001b[49m\u001b[43mna_value\u001b[49m\u001b[43m=\u001b[49m\u001b[43mnp\u001b[49m\u001b[43m.\u001b[49m\u001b[43mnan\u001b[49m\u001b[43m,\u001b[49m\u001b[43m \u001b[49m\u001b[43mcopy\u001b[49m\u001b[43m=\u001b[49m\u001b[38;5;28;43;01mFalse\u001b[39;49;00m\u001b[43m)\u001b[49m\n\u001b[32m  11051\u001b[39m \u001b[38;5;28;01mif\u001b[39;00m method == \u001b[33m\"\u001b[39m\u001b[33mpearson\u001b[39m\u001b[33m\"\u001b[39m:\n\u001b[32m  11052\u001b[39m     correl = libalgos.nancorr(mat, minp=min_periods)\n",
      "\u001b[36mFile \u001b[39m\u001b[32m~/Second-Brain/{20} Bachelor of Computing/3 Year/MLG382/Code/.venv/lib/python3.11/site-packages/pandas/core/frame.py:1993\u001b[39m, in \u001b[36mDataFrame.to_numpy\u001b[39m\u001b[34m(self, dtype, copy, na_value)\u001b[39m\n\u001b[32m   1991\u001b[39m \u001b[38;5;28;01mif\u001b[39;00m dtype \u001b[38;5;129;01mis\u001b[39;00m \u001b[38;5;129;01mnot\u001b[39;00m \u001b[38;5;28;01mNone\u001b[39;00m:\n\u001b[32m   1992\u001b[39m     dtype = np.dtype(dtype)\n\u001b[32m-> \u001b[39m\u001b[32m1993\u001b[39m result = \u001b[38;5;28;43mself\u001b[39;49m\u001b[43m.\u001b[49m\u001b[43m_mgr\u001b[49m\u001b[43m.\u001b[49m\u001b[43mas_array\u001b[49m\u001b[43m(\u001b[49m\u001b[43mdtype\u001b[49m\u001b[43m=\u001b[49m\u001b[43mdtype\u001b[49m\u001b[43m,\u001b[49m\u001b[43m \u001b[49m\u001b[43mcopy\u001b[49m\u001b[43m=\u001b[49m\u001b[43mcopy\u001b[49m\u001b[43m,\u001b[49m\u001b[43m \u001b[49m\u001b[43mna_value\u001b[49m\u001b[43m=\u001b[49m\u001b[43mna_value\u001b[49m\u001b[43m)\u001b[49m\n\u001b[32m   1994\u001b[39m \u001b[38;5;28;01mif\u001b[39;00m result.dtype \u001b[38;5;129;01mis\u001b[39;00m \u001b[38;5;129;01mnot\u001b[39;00m dtype:\n\u001b[32m   1995\u001b[39m     result = np.asarray(result, dtype=dtype)\n",
      "\u001b[36mFile \u001b[39m\u001b[32m~/Second-Brain/{20} Bachelor of Computing/3 Year/MLG382/Code/.venv/lib/python3.11/site-packages/pandas/core/internals/managers.py:1694\u001b[39m, in \u001b[36mBlockManager.as_array\u001b[39m\u001b[34m(self, dtype, copy, na_value)\u001b[39m\n\u001b[32m   1692\u001b[39m         arr.flags.writeable = \u001b[38;5;28;01mFalse\u001b[39;00m\n\u001b[32m   1693\u001b[39m \u001b[38;5;28;01melse\u001b[39;00m:\n\u001b[32m-> \u001b[39m\u001b[32m1694\u001b[39m     arr = \u001b[38;5;28;43mself\u001b[39;49m\u001b[43m.\u001b[49m\u001b[43m_interleave\u001b[49m\u001b[43m(\u001b[49m\u001b[43mdtype\u001b[49m\u001b[43m=\u001b[49m\u001b[43mdtype\u001b[49m\u001b[43m,\u001b[49m\u001b[43m \u001b[49m\u001b[43mna_value\u001b[49m\u001b[43m=\u001b[49m\u001b[43mna_value\u001b[49m\u001b[43m)\u001b[49m\n\u001b[32m   1695\u001b[39m     \u001b[38;5;66;03m# The underlying data was copied within _interleave, so no need\u001b[39;00m\n\u001b[32m   1696\u001b[39m     \u001b[38;5;66;03m# to further copy if copy=True or setting na_value\u001b[39;00m\n\u001b[32m   1698\u001b[39m \u001b[38;5;28;01mif\u001b[39;00m na_value \u001b[38;5;129;01mis\u001b[39;00m lib.no_default:\n",
      "\u001b[36mFile \u001b[39m\u001b[32m~/Second-Brain/{20} Bachelor of Computing/3 Year/MLG382/Code/.venv/lib/python3.11/site-packages/pandas/core/internals/managers.py:1753\u001b[39m, in \u001b[36mBlockManager._interleave\u001b[39m\u001b[34m(self, dtype, na_value)\u001b[39m\n\u001b[32m   1751\u001b[39m     \u001b[38;5;28;01melse\u001b[39;00m:\n\u001b[32m   1752\u001b[39m         arr = blk.get_values(dtype)\n\u001b[32m-> \u001b[39m\u001b[32m1753\u001b[39m     \u001b[43mresult\u001b[49m\u001b[43m[\u001b[49m\u001b[43mrl\u001b[49m\u001b[43m.\u001b[49m\u001b[43mindexer\u001b[49m\u001b[43m]\u001b[49m = arr\n\u001b[32m   1754\u001b[39m     itemmask[rl.indexer] = \u001b[32m1\u001b[39m\n\u001b[32m   1756\u001b[39m \u001b[38;5;28;01mif\u001b[39;00m \u001b[38;5;129;01mnot\u001b[39;00m itemmask.all():\n",
      "\u001b[31mValueError\u001b[39m: could not convert string to float: 'Petrol'"
     ]
    },
    {
     "data": {
      "text/plain": [
       "<Figure size 600x400 with 0 Axes>"
      ]
     },
     "metadata": {},
     "output_type": "display_data"
    }
   ],
   "source": [
    "plt.figure(figsize=(6, 4))\n",
    "sns.heatmap(df.corr(), annot=True, cmap='coolwarm', fmt=\".2f\", linewidths=0.5)\n",
    "# cmap options: 'viridis', 'YlGnBu', 'magma', etc.\n",
    "# annot=True shows correlation values\n",
    "# linewidths=0.5 adds space between cells\n"
   ]
  },
  {
   "cell_type": "code",
   "execution_count": 238,
   "id": "40c1785c",
   "metadata": {},
   "outputs": [
    {
     "data": {
      "text/plain": [
       "<Axes: xlabel='Present_Price', ylabel='Selling_Price'>"
      ]
     },
     "execution_count": 238,
     "metadata": {},
     "output_type": "execute_result"
    },
    {
     "data": {
      "image/png": "[encoded data removed]",
      "text/plain": [
       "<Figure size 640x480 with 1 Axes>"
      ]
     },
     "metadata": {},
     "output_type": "display_data"
    }
   ],
   "source": [
    "sns.regplot(data=df, x='Present_Price', y='Selling_Price', scatter_kws={'alpha': 0.6}, line_kws={'color': 'red'})\n",
    "# scatter_kws and line_kws allow custom styling\n",
    "# order=2 → polynomial fit\n"
   ]
  },
  {
   "cell_type": "code",
   "execution_count": 239,
   "id": "88c3d8f2",
   "metadata": {},
   "outputs": [
    {
     "data": {
      "text/plain": [
       "<Axes: xlabel='Present_Price', ylabel='Selling_Price'>"
      ]
     },
     "execution_count": 239,
     "metadata": {},
     "output_type": "execute_result"
    },
    {
     "data": {
      "image/png": "[encoded data removed]",
      "text/plain": [
       "<Figure size 640x480 with 1 Axes>"
      ]
     },
     "metadata": {},
     "output_type": "display_data"
    }
   ],
   "source": [
    "sns.regplot(data=df, x='Present_Price', y='Selling_Price', scatter_kws={'alpha': 0.6}, line_kws={'color': 'red'})\n",
    "# scatter_kws and line_kws allow custom styling\n",
    "# order=2 → polynomial fit\n"
   ]
  },
  {
   "cell_type": "code",
   "execution_count": 240,
   "id": "f2ed2a57",
   "metadata": {},
   "outputs": [
    {
     "data": {
      "text/plain": [
       "<Axes: xlabel='Present_Price', ylabel='Selling_Price'>"
      ]
     },
     "execution_count": 240,
     "metadata": {},
     "output_type": "execute_result"
    },
    {
     "data": {
      "image/png": "[encoded data removed]",
      "text/plain": [
       "<Figure size 640x480 with 1 Axes>"
      ]
     },
     "metadata": {},
     "output_type": "display_data"
    }
   ],
   "source": [
    "sns.scatterplot(data=df, x='Present_Price', y='Selling_Price', hue='Fuel_Type', style='Fuel_Type', s=100)\n",
    "# hue = color by category\n",
    "# style = marker shape\n",
    "# s = marker size\n"
   ]
  },
  {
   "cell_type": "code",
   "execution_count": 241,
   "id": "e35f5d87",
   "metadata": {},
   "outputs": [
    {
     "data": {
      "text/plain": [
       "<Axes: xlabel='Kms_Driven', ylabel='Density'>"
      ]
     },
     "execution_count": 241,
     "metadata": {},
     "output_type": "execute_result"
    },
    {
     "data": {
      "image/png": "[encoded data removed]",
      "text/plain": [
       "<Figure size 640x480 with 1 Axes>"
      ]
     },
     "metadata": {},
     "output_type": "display_data"
    }
   ],
   "source": [
    "sns.kdeplot(data=df, x='Kms_Driven', fill=True)\n",
    "# fill=True shades the area\n",
    "# multiple='stack' or 'layer' if using hue\n"
   ]
  },
  {
   "cell_type": "code",
   "execution_count": 243,
   "id": "045f0a15",
   "metadata": {},
   "outputs": [
    {
     "data": {
      "image/png": "[encoded data removed]",
      "text/plain": [
       "<Figure size 640x480 with 1 Axes>"
      ]
     },
     "metadata": {},
     "output_type": "display_data"
    }
   ],
   "source": [
    "from sklearn.cluster import KMeans\n",
    "import pandas as pd\n",
    "import seaborn as sns\n",
    "import matplotlib.pyplot as plt\n",
    "\n",
    "# Sample data\n",
    "df = pd.DataFrame({\n",
    "    'Present_Price': [5.0, 6.5, 8.2, 15.0, 14.5, 16.0],\n",
    "    'Kms_Driven': [20000, 22000, 21000, 60000, 61000, 59000]\n",
    "})\n",
    "\n",
    "# Fit KMeans\n",
    "model = KMeans(n_clusters=2, random_state=42)\n",
    "df['Cluster'] = model.fit_predict(df[['Present_Price', 'Kms_Driven']])\n",
    "\n",
    "# Plot\n",
    "sns.scatterplot(data=df, x='Present_Price', y='Kms_Driven', hue='Cluster', palette='Set2')\n",
    "plt.title(\"KMeans Clustering\")\n",
    "plt.show()\n"
   ]
  },
  {
   "cell_type": "code",
   "execution_count": 244,
   "id": "f20f8295",
   "metadata": {},
   "outputs": [
    {
     "data": {
      "image/png": "[encoded data removed]",
      "text/plain": [
       "<Figure size 600x400 with 1 Axes>"
      ]
     },
     "metadata": {},
     "output_type": "display_data"
    }
   ],
   "source": [
    "import pandas as pd\n",
    "import matplotlib.pyplot as plt\n",
    "from sklearn.cluster import KMeans\n",
    "\n",
    "# 🧪 Sample Data\n",
    "df = pd.DataFrame({\n",
    "    'Present_Price': [5.0, 6.5, 8.2, 15.0, 14.5, 16.0, 4.2, 7.0, 5.5, 6.8],\n",
    "    'Kms_Driven': [20000, 22000, 21000, 60000, 61000, 59000, 25000, 23000, 24000, 26000]\n",
    "})\n",
    "\n",
    "X = df[['Present_Price', 'Kms_Driven']]\n",
    "\n",
    "# 📈 Try different values for k\n",
    "inertias = []\n",
    "K_range = range(1, 11)\n",
    "\n",
    "for k in K_range:\n",
    "    model = KMeans(n_clusters=k, random_state=42)\n",
    "    model.fit(X)\n",
    "    inertias.append(model.inertia_)\n",
    "\n",
    "# 📊 Plot elbow curve\n",
    "plt.figure(figsize=(6, 4))\n",
    "plt.plot(K_range, inertias, marker='o')\n",
    "plt.title('Elbow Method for Optimal k')\n",
    "plt.xlabel('Number of clusters (k)')\n",
    "plt.ylabel('Inertia (Within-Cluster Sum of Squares)')\n",
    "plt.xticks(K_range)\n",
    "plt.grid(True)\n",
    "plt.tight_layout()\n",
    "plt.show()\n"
   ]
  },
  {
   "cell_type": "markdown",
   "id": "91ab67c9",
   "metadata": {},
   "source": [
    "\n",
    "### ▸ Correlation Heatmap\n",
    "### ▸ Histograms\n",
    "### ▸ Boxplots\n",
    "### ▸ Pairplots\n",
    "### ▸ KDE plots\n",
    "### ▸ Regression Plots\n",
    "### ▸ Confusion Matrix Heatmap\n",
    "### ▸ Decision Tree Plot\n",
    "### ▸ K-Means Cluster Plot\n",
    "### ▸ Elbow Method (KMeans)"
   ]
  },
  {
   "cell_type": "markdown",
   "id": "3609022c",
   "metadata": {},
   "source": [
    "## 💾 11. Saving and Loading Models"
   ]
  },
  {
   "cell_type": "code",
   "execution_count": 249,
   "id": "97f97f6b",
   "metadata": {},
   "outputs": [
    {
     "data": {
      "text/plain": [
       "['kmeans_model.pkl']"
      ]
     },
     "execution_count": 249,
     "metadata": {},
     "output_type": "execute_result"
    }
   ],
   "source": [
    "import joblib\n",
    "\n",
    "# Save model\n",
    "joblib.dump(model, 'kmeans_model.pkl')\n",
    "\n",
    "# Save scaler (optional)\n",
    "# joblib.dump(scaler, 'scaler.pkl')\n"
   ]
  },
  {
   "cell_type": "code",
   "execution_count": 250,
   "id": "ead53f45",
   "metadata": {},
   "outputs": [
    {
     "data": {
      "text/plain": [
       "array([0], dtype=int32)"
      ]
     },
     "execution_count": 250,
     "metadata": {},
     "output_type": "execute_result"
    }
   ],
   "source": [
    "# Load model later\n",
    "model_loaded = joblib.load('kmeans_model.pkl')\n",
    "\n",
    "# Predict with loaded model\n",
    "model_loaded.predict(new_data)\n"
   ]
  },
  {
   "cell_type": "code",
   "execution_count": 251,
   "id": "378c9637",
   "metadata": {},
   "outputs": [],
   "source": [
    "model_ann.save(\"ann_model.keras\")  # OR: \"ann_model.h5\"\n"
   ]
  },
  {
   "cell_type": "code",
   "execution_count": 252,
   "id": "e5d6f454",
   "metadata": {},
   "outputs": [
    {
     "name": "stdout",
     "output_type": "stream",
     "text": [
      "\u001b[1m1/1\u001b[0m \u001b[32m━━━━━━━━━━━━━━━━━━━━\u001b[0m\u001b[37m\u001b[0m \u001b[1m0s\u001b[0m 37ms/step\n"
     ]
    },
    {
     "data": {
      "text/plain": [
       "array([[0.]], dtype=float32)"
      ]
     },
     "execution_count": 252,
     "metadata": {},
     "output_type": "execute_result"
    }
   ],
   "source": [
    "from keras.models import load_model\n",
    "\n",
    "model_loaded = load_model(\"ann_model.keras\")\n",
    "model_loaded.predict(X_test)\n"
   ]
  },
  {
   "cell_type": "markdown",
   "id": "72cd3958",
   "metadata": {},
   "source": [
    "### ▸ joblib (models, scalers, encoders)\n",
    "### ▸ Keras `.save()` and `.load_model()`"
   ]
  },
  {
   "cell_type": "markdown",
   "id": "a99044ed",
   "metadata": {},
   "source": [
    "## 🧪 12. Prediction on New Data"
   ]
  },
  {
   "cell_type": "code",
   "execution_count": 245,
   "id": "eff41637",
   "metadata": {},
   "outputs": [
    {
     "data": {
      "text/html": [
       "<style>#sk-container-id-1 {\n",
       "  /* Definition of color scheme common for light and dark mode */\n",
       "  --sklearn-color-text: #000;\n",
       "  --sklearn-color-text-muted: #666;\n",
       "  --sklearn-color-line: gray;\n",
       "  /* Definition of color scheme for unfitted estimators */\n",
       "  --sklearn-color-unfitted-level-0: #fff5e6;\n",
       "  --sklearn-color-unfitted-level-1: #f6e4d2;\n",
       "  --sklearn-color-unfitted-level-2: #ffe0b3;\n",
       "  --sklearn-color-unfitted-level-3: chocolate;\n",
       "  /* Definition of color scheme for fitted estimators */\n",
       "  --sklearn-color-fitted-level-0: #f0f8ff;\n",
       "  --sklearn-color-fitted-level-1: #d4ebff;\n",
       "  --sklearn-color-fitted-level-2: #b3dbfd;\n",
       "  --sklearn-color-fitted-level-3: cornflowerblue;\n",
       "\n",
       "  /* Specific color for light theme */\n",
       "  --sklearn-color-text-on-default-background: var(--sg-text-color, var(--theme-code-foreground, var(--jp-content-font-color1, black)));\n",
       "  --sklearn-color-background: var(--sg-background-color, var(--theme-background, var(--jp-layout-color0, white)));\n",
       "  --sklearn-color-border-box: var(--sg-text-color, var(--theme-code-foreground, var(--jp-content-font-color1, black)));\n",
       "  --sklearn-color-icon: #696969;\n",
       "\n",
       "  @media (prefers-color-scheme: dark) {\n",
       "    /* Redefinition of color scheme for dark theme */\n",
       "    --sklearn-color-text-on-default-background: var(--sg-text-color, var(--theme-code-foreground, var(--jp-content-font-color1, white)));\n",
       "    --sklearn-color-background: var(--sg-background-color, var(--theme-background, var(--jp-layout-color0, #111)));\n",
       "    --sklearn-color-border-box: var(--sg-text-color, var(--theme-code-foreground, var(--jp-content-font-color1, white)));\n",
       "    --sklearn-color-icon: #878787;\n",
       "  }\n",
       "}\n",
       "\n",
       "#sk-container-id-1 {\n",
       "  color: var(--sklearn-color-text);\n",
       "}\n",
       "\n",
       "#sk-container-id-1 pre {\n",
       "  padding: 0;\n",
       "}\n",
       "\n",
       "#sk-container-id-1 input.sk-hidden--visually {\n",
       "  border: 0;\n",
       "  clip: rect(1px 1px 1px 1px);\n",
       "  clip: rect(1px, 1px, 1px, 1px);\n",
       "  height: 1px;\n",
       "  margin: -1px;\n",
       "  overflow: hidden;\n",
       "  padding: 0;\n",
       "  position: absolute;\n",
       "  width: 1px;\n",
       "}\n",
       "\n",
       "#sk-container-id-1 div.sk-dashed-wrapped {\n",
       "  border: 1px dashed var(--sklearn-color-line);\n",
       "  margin: 0 0.4em 0.5em 0.4em;\n",
       "  box-sizing: border-box;\n",
       "  padding-bottom: 0.4em;\n",
       "  background-color: var(--sklearn-color-background);\n",
       "}\n",
       "\n",
       "#sk-container-id-1 div.sk-container {\n",
       "  /* jupyter's `normalize.less` sets `[hidden] { display: none; }`\n",
       "     but bootstrap.min.css set `[hidden] { display: none !important; }`\n",
       "     so we also need the `!important` here to be able to override the\n",
       "     default hidden behavior on the sphinx rendered scikit-learn.org.\n",
       "     See: https://github.com/scikit-learn/scikit-learn/issues/21755 */\n",
       "  display: inline-block !important;\n",
       "  position: relative;\n",
       "}\n",
       "\n",
       "#sk-container-id-1 div.sk-text-repr-fallback {\n",
       "  display: none;\n",
       "}\n",
       "\n",
       "div.sk-parallel-item,\n",
       "div.sk-serial,\n",
       "div.sk-item {\n",
       "  /* draw centered vertical line to link estimators */\n",
       "  background-image: linear-gradient(var(--sklearn-color-text-on-default-background), var(--sklearn-color-text-on-default-background));\n",
       "  background-size: 2px 100%;\n",
       "  background-repeat: no-repeat;\n",
       "  background-position: center center;\n",
       "}\n",
       "\n",
       "/* Parallel-specific style estimator block */\n",
       "\n",
       "#sk-container-id-1 div.sk-parallel-item::after {\n",
       "  content: \"\";\n",
       "  width: 100%;\n",
       "  border-bottom: 2px solid var(--sklearn-color-text-on-default-background);\n",
       "  flex-grow: 1;\n",
       "}\n",
       "\n",
       "#sk-container-id-1 div.sk-parallel {\n",
       "  display: flex;\n",
       "  align-items: stretch;\n",
       "  justify-content: center;\n",
       "  background-color: var(--sklearn-color-background);\n",
       "  position: relative;\n",
       "}\n",
       "\n",
       "#sk-container-id-1 div.sk-parallel-item {\n",
       "  display: flex;\n",
       "  flex-direction: column;\n",
       "}\n",
       "\n",
       "#sk-container-id-1 div.sk-parallel-item:first-child::after {\n",
       "  align-self: flex-end;\n",
       "  width: 50%;\n",
       "}\n",
       "\n",
       "#sk-container-id-1 div.sk-parallel-item:last-child::after {\n",
       "  align-self: flex-start;\n",
       "  width: 50%;\n",
       "}\n",
       "\n",
       "#sk-container-id-1 div.sk-parallel-item:only-child::after {\n",
       "  width: 0;\n",
       "}\n",
       "\n",
       "/* Serial-specific style estimator block */\n",
       "\n",
       "#sk-container-id-1 div.sk-serial {\n",
       "  display: flex;\n",
       "  flex-direction: column;\n",
       "  align-items: center;\n",
       "  background-color: var(--sklearn-color-background);\n",
       "  padding-right: 1em;\n",
       "  padding-left: 1em;\n",
       "}\n",
       "\n",
       "\n",
       "/* Toggleable style: style used for estimator/Pipeline/ColumnTransformer box that is\n",
       "clickable and can be expanded/collapsed.\n",
       "- Pipeline and ColumnTransformer use this feature and define the default style\n",
       "- Estimators will overwrite some part of the style using the `sk-estimator` class\n",
       "*/\n",
       "\n",
       "/* Pipeline and ColumnTransformer style (default) */\n",
       "\n",
       "#sk-container-id-1 div.sk-toggleable {\n",
       "  /* Default theme specific background. It is overwritten whether we have a\n",
       "  specific estimator or a Pipeline/ColumnTransformer */\n",
       "  background-color: var(--sklearn-color-background);\n",
       "}\n",
       "\n",
       "/* Toggleable label */\n",
       "#sk-container-id-1 label.sk-toggleable__label {\n",
       "  cursor: pointer;\n",
       "  display: flex;\n",
       "  width: 100%;\n",
       "  margin-bottom: 0;\n",
       "  padding: 0.5em;\n",
       "  box-sizing: border-box;\n",
       "  text-align: center;\n",
       "  align-items: start;\n",
       "  justify-content: space-between;\n",
       "  gap: 0.5em;\n",
       "}\n",
       "\n",
       "#sk-container-id-1 label.sk-toggleable__label .caption {\n",
       "  font-size: 0.6rem;\n",
       "  font-weight: lighter;\n",
       "  color: var(--sklearn-color-text-muted);\n",
       "}\n",
       "\n",
       "#sk-container-id-1 label.sk-toggleable__label-arrow:before {\n",
       "  /* Arrow on the left of the label */\n",
       "  content: \"▸\";\n",
       "  float: left;\n",
       "  margin-right: 0.25em;\n",
       "  color: var(--sklearn-color-icon);\n",
       "}\n",
       "\n",
       "#sk-container-id-1 label.sk-toggleable__label-arrow:hover:before {\n",
       "  color: var(--sklearn-color-text);\n",
       "}\n",
       "\n",
       "/* Toggleable content - dropdown */\n",
       "\n",
       "#sk-container-id-1 div.sk-toggleable__content {\n",
       "  max-height: 0;\n",
       "  max-width: 0;\n",
       "  overflow: hidden;\n",
       "  text-align: left;\n",
       "  /* unfitted */\n",
       "  background-color: var(--sklearn-color-unfitted-level-0);\n",
       "}\n",
       "\n",
       "#sk-container-id-1 div.sk-toggleable__content.fitted {\n",
       "  /* fitted */\n",
       "  background-color: var(--sklearn-color-fitted-level-0);\n",
       "}\n",
       "\n",
       "#sk-container-id-1 div.sk-toggleable__content pre {\n",
       "  margin: 0.2em;\n",
       "  border-radius: 0.25em;\n",
       "  color: var(--sklearn-color-text);\n",
       "  /* unfitted */\n",
       "  background-color: var(--sklearn-color-unfitted-level-0);\n",
       "}\n",
       "\n",
       "#sk-container-id-1 div.sk-toggleable__content.fitted pre {\n",
       "  /* unfitted */\n",
       "  background-color: var(--sklearn-color-fitted-level-0);\n",
       "}\n",
       "\n",
       "#sk-container-id-1 input.sk-toggleable__control:checked~div.sk-toggleable__content {\n",
       "  /* Expand drop-down */\n",
       "  max-height: 200px;\n",
       "  max-width: 100%;\n",
       "  overflow: auto;\n",
       "}\n",
       "\n",
       "#sk-container-id-1 input.sk-toggleable__control:checked~label.sk-toggleable__label-arrow:before {\n",
       "  content: \"▾\";\n",
       "}\n",
       "\n",
       "/* Pipeline/ColumnTransformer-specific style */\n",
       "\n",
       "#sk-container-id-1 div.sk-label input.sk-toggleable__control:checked~label.sk-toggleable__label {\n",
       "  color: var(--sklearn-color-text);\n",
       "  background-color: var(--sklearn-color-unfitted-level-2);\n",
       "}\n",
       "\n",
       "#sk-container-id-1 div.sk-label.fitted input.sk-toggleable__control:checked~label.sk-toggleable__label {\n",
       "  background-color: var(--sklearn-color-fitted-level-2);\n",
       "}\n",
       "\n",
       "/* Estimator-specific style */\n",
       "\n",
       "/* Colorize estimator box */\n",
       "#sk-container-id-1 div.sk-estimator input.sk-toggleable__control:checked~label.sk-toggleable__label {\n",
       "  /* unfitted */\n",
       "  background-color: var(--sklearn-color-unfitted-level-2);\n",
       "}\n",
       "\n",
       "#sk-container-id-1 div.sk-estimator.fitted input.sk-toggleable__control:checked~label.sk-toggleable__label {\n",
       "  /* fitted */\n",
       "  background-color: var(--sklearn-color-fitted-level-2);\n",
       "}\n",
       "\n",
       "#sk-container-id-1 div.sk-label label.sk-toggleable__label,\n",
       "#sk-container-id-1 div.sk-label label {\n",
       "  /* The background is the default theme color */\n",
       "  color: var(--sklearn-color-text-on-default-background);\n",
       "}\n",
       "\n",
       "/* On hover, darken the color of the background */\n",
       "#sk-container-id-1 div.sk-label:hover label.sk-toggleable__label {\n",
       "  color: var(--sklearn-color-text);\n",
       "  background-color: var(--sklearn-color-unfitted-level-2);\n",
       "}\n",
       "\n",
       "/* Label box, darken color on hover, fitted */\n",
       "#sk-container-id-1 div.sk-label.fitted:hover label.sk-toggleable__label.fitted {\n",
       "  color: var(--sklearn-color-text);\n",
       "  background-color: var(--sklearn-color-fitted-level-2);\n",
       "}\n",
       "\n",
       "/* Estimator label */\n",
       "\n",
       "#sk-container-id-1 div.sk-label label {\n",
       "  font-family: monospace;\n",
       "  font-weight: bold;\n",
       "  display: inline-block;\n",
       "  line-height: 1.2em;\n",
       "}\n",
       "\n",
       "#sk-container-id-1 div.sk-label-container {\n",
       "  text-align: center;\n",
       "}\n",
       "\n",
       "/* Estimator-specific */\n",
       "#sk-container-id-1 div.sk-estimator {\n",
       "  font-family: monospace;\n",
       "  border: 1px dotted var(--sklearn-color-border-box);\n",
       "  border-radius: 0.25em;\n",
       "  box-sizing: border-box;\n",
       "  margin-bottom: 0.5em;\n",
       "  /* unfitted */\n",
       "  background-color: var(--sklearn-color-unfitted-level-0);\n",
       "}\n",
       "\n",
       "#sk-container-id-1 div.sk-estimator.fitted {\n",
       "  /* fitted */\n",
       "  background-color: var(--sklearn-color-fitted-level-0);\n",
       "}\n",
       "\n",
       "/* on hover */\n",
       "#sk-container-id-1 div.sk-estimator:hover {\n",
       "  /* unfitted */\n",
       "  background-color: var(--sklearn-color-unfitted-level-2);\n",
       "}\n",
       "\n",
       "#sk-container-id-1 div.sk-estimator.fitted:hover {\n",
       "  /* fitted */\n",
       "  background-color: var(--sklearn-color-fitted-level-2);\n",
       "}\n",
       "\n",
       "/* Specification for estimator info (e.g. \"i\" and \"?\") */\n",
       "\n",
       "/* Common style for \"i\" and \"?\" */\n",
       "\n",
       ".sk-estimator-doc-link,\n",
       "a:link.sk-estimator-doc-link,\n",
       "a:visited.sk-estimator-doc-link {\n",
       "  float: right;\n",
       "  font-size: smaller;\n",
       "  line-height: 1em;\n",
       "  font-family: monospace;\n",
       "  background-color: var(--sklearn-color-background);\n",
       "  border-radius: 1em;\n",
       "  height: 1em;\n",
       "  width: 1em;\n",
       "  text-decoration: none !important;\n",
       "  margin-left: 0.5em;\n",
       "  text-align: center;\n",
       "  /* unfitted */\n",
       "  border: var(--sklearn-color-unfitted-level-1) 1pt solid;\n",
       "  color: var(--sklearn-color-unfitted-level-1);\n",
       "}\n",
       "\n",
       ".sk-estimator-doc-link.fitted,\n",
       "a:link.sk-estimator-doc-link.fitted,\n",
       "a:visited.sk-estimator-doc-link.fitted {\n",
       "  /* fitted */\n",
       "  border: var(--sklearn-color-fitted-level-1) 1pt solid;\n",
       "  color: var(--sklearn-color-fitted-level-1);\n",
       "}\n",
       "\n",
       "/* On hover */\n",
       "div.sk-estimator:hover .sk-estimator-doc-link:hover,\n",
       ".sk-estimator-doc-link:hover,\n",
       "div.sk-label-container:hover .sk-estimator-doc-link:hover,\n",
       ".sk-estimator-doc-link:hover {\n",
       "  /* unfitted */\n",
       "  background-color: var(--sklearn-color-unfitted-level-3);\n",
       "  color: var(--sklearn-color-background);\n",
       "  text-decoration: none;\n",
       "}\n",
       "\n",
       "div.sk-estimator.fitted:hover .sk-estimator-doc-link.fitted:hover,\n",
       ".sk-estimator-doc-link.fitted:hover,\n",
       "div.sk-label-container:hover .sk-estimator-doc-link.fitted:hover,\n",
       ".sk-estimator-doc-link.fitted:hover {\n",
       "  /* fitted */\n",
       "  background-color: var(--sklearn-color-fitted-level-3);\n",
       "  color: var(--sklearn-color-background);\n",
       "  text-decoration: none;\n",
       "}\n",
       "\n",
       "/* Span, style for the box shown on hovering the info icon */\n",
       ".sk-estimator-doc-link span {\n",
       "  display: none;\n",
       "  z-index: 9999;\n",
       "  position: relative;\n",
       "  font-weight: normal;\n",
       "  right: .2ex;\n",
       "  padding: .5ex;\n",
       "  margin: .5ex;\n",
       "  width: min-content;\n",
       "  min-width: 20ex;\n",
       "  max-width: 50ex;\n",
       "  color: var(--sklearn-color-text);\n",
       "  box-shadow: 2pt 2pt 4pt #999;\n",
       "  /* unfitted */\n",
       "  background: var(--sklearn-color-unfitted-level-0);\n",
       "  border: .5pt solid var(--sklearn-color-unfitted-level-3);\n",
       "}\n",
       "\n",
       ".sk-estimator-doc-link.fitted span {\n",
       "  /* fitted */\n",
       "  background: var(--sklearn-color-fitted-level-0);\n",
       "  border: var(--sklearn-color-fitted-level-3);\n",
       "}\n",
       "\n",
       ".sk-estimator-doc-link:hover span {\n",
       "  display: block;\n",
       "}\n",
       "\n",
       "/* \"?\"-specific style due to the `<a>` HTML tag */\n",
       "\n",
       "#sk-container-id-1 a.estimator_doc_link {\n",
       "  float: right;\n",
       "  font-size: 1rem;\n",
       "  line-height: 1em;\n",
       "  font-family: monospace;\n",
       "  background-color: var(--sklearn-color-background);\n",
       "  border-radius: 1rem;\n",
       "  height: 1rem;\n",
       "  width: 1rem;\n",
       "  text-decoration: none;\n",
       "  /* unfitted */\n",
       "  color: var(--sklearn-color-unfitted-level-1);\n",
       "  border: var(--sklearn-color-unfitted-level-1) 1pt solid;\n",
       "}\n",
       "\n",
       "#sk-container-id-1 a.estimator_doc_link.fitted {\n",
       "  /* fitted */\n",
       "  border: var(--sklearn-color-fitted-level-1) 1pt solid;\n",
       "  color: var(--sklearn-color-fitted-level-1);\n",
       "}\n",
       "\n",
       "/* On hover */\n",
       "#sk-container-id-1 a.estimator_doc_link:hover {\n",
       "  /* unfitted */\n",
       "  background-color: var(--sklearn-color-unfitted-level-3);\n",
       "  color: var(--sklearn-color-background);\n",
       "  text-decoration: none;\n",
       "}\n",
       "\n",
       "#sk-container-id-1 a.estimator_doc_link.fitted:hover {\n",
       "  /* fitted */\n",
       "  background-color: var(--sklearn-color-fitted-level-3);\n",
       "}\n",
       "</style><div id=\"sk-container-id-1\" class=\"sk-top-container\"><div class=\"sk-text-repr-fallback\"><pre>KMeans(n_clusters=2, random_state=42)</pre><b>In a Jupyter environment, please rerun this cell to show the HTML representation or trust the notebook. <br />On GitHub, the HTML representation is unable to render, please try loading this page with nbviewer.org.</b></div><div class=\"sk-container\" hidden><div class=\"sk-item\"><div class=\"sk-estimator fitted sk-toggleable\"><input class=\"sk-toggleable__control sk-hidden--visually\" id=\"sk-estimator-id-1\" type=\"checkbox\" checked><label for=\"sk-estimator-id-1\" class=\"sk-toggleable__label fitted sk-toggleable__label-arrow\"><div><div>KMeans</div></div><div><a class=\"sk-estimator-doc-link fitted\" rel=\"noreferrer\" target=\"_blank\" href=\"https://scikit-learn.org/1.6/modules/generated/sklearn.cluster.KMeans.html\">?<span>Documentation for KMeans</span></a><span class=\"sk-estimator-doc-link fitted\">i<span>Fitted</span></span></div></label><div class=\"sk-toggleable__content fitted\"><pre>KMeans(n_clusters=2, random_state=42)</pre></div> </div></div></div></div>"
      ],
      "text/plain": [
       "KMeans(n_clusters=2, random_state=42)"
      ]
     },
     "execution_count": 245,
     "metadata": {},
     "output_type": "execute_result"
    }
   ],
   "source": [
    "from sklearn.cluster import KMeans\n",
    "import pandas as pd\n",
    "\n",
    "# Original training data\n",
    "df = pd.DataFrame({\n",
    "    'Present_Price': [5.0, 6.5, 8.2, 15.0, 14.5, 16.0],\n",
    "    'Kms_Driven': [20000, 22000, 21000, 60000, 61000, 59000]\n",
    "})\n",
    "\n",
    "X_train = df[['Present_Price', 'Kms_Driven']]\n",
    "\n",
    "# Train model (use k from Elbow Method, e.g., k=2)\n",
    "model = KMeans(n_clusters=2, random_state=42)\n",
    "model.fit(X_train)\n"
   ]
  },
  {
   "cell_type": "code",
   "execution_count": 246,
   "id": "e77b81fb",
   "metadata": {},
   "outputs": [],
   "source": [
    "# New unseen data point(s)\n",
    "new_data = pd.DataFrame({\n",
    "    'Present_Price': [7.0],\n",
    "    'Kms_Driven': [23000]\n",
    "})\n"
   ]
  },
  {
   "cell_type": "code",
   "execution_count": 247,
   "id": "b0a45b7a",
   "metadata": {},
   "outputs": [
    {
     "name": "stdout",
     "output_type": "stream",
     "text": [
      "Predicted cluster: 0\n"
     ]
    }
   ],
   "source": [
    "predicted_cluster = model.predict(new_data)\n",
    "print(f\"Predicted cluster: {predicted_cluster[0]}\")\n"
   ]
  },
  {
   "cell_type": "code",
   "execution_count": 248,
   "id": "cdf5f87f",
   "metadata": {},
   "outputs": [
    {
     "data": {
      "image/png": "[encoded data removed]",
      "text/plain": [
       "<Figure size 640x480 with 1 Axes>"
      ]
     },
     "metadata": {},
     "output_type": "display_data"
    }
   ],
   "source": [
    "import matplotlib.pyplot as plt\n",
    "import seaborn as sns\n",
    "\n",
    "# Add cluster labels to training data for plotting\n",
    "df['Cluster'] = model.labels_\n",
    "\n",
    "# Plot clusters\n",
    "sns.scatterplot(data=df, x='Present_Price', y='Kms_Driven', hue='Cluster', palette='Set2')\n",
    "plt.scatter(new_data['Present_Price'], new_data['Kms_Driven'], c='black', s=100, marker='X', label='New Data')\n",
    "plt.title(\"KMeans Clustering + New Prediction\")\n",
    "plt.legend()\n",
    "plt.tight_layout()\n",
    "plt.show()\n"
   ]
  },
  {
   "cell_type": "markdown",
   "id": "933685d6",
   "metadata": {},
   "source": [
    "### ▸ Creating New Input\n",
    "### ▸ Preprocessing (Scaling & Encoding)\n",
    "### ▸ Reindexing to Match Training Columns\n",
    "### ▸ Predicting"
   ]
  },
  {
   "cell_type": "code",
   "execution_count": 1,
   "id": "22360b18",
   "metadata": {},
   "outputs": [
    {
     "name": "stderr",
     "output_type": "stream",
     "text": [
      "2025-04-25 07:55:05.472677: E external/local_xla/xla/stream_executor/cuda/cuda_fft.cc:467] Unable to register cuFFT factory: Attempting to register factory for plugin cuFFT when one has already been registered\n",
      "WARNING: All log messages before absl::InitializeLog() is called are written to STDERR\n",
      "E0000 00:00:1745560506.125893    5336 cuda_dnn.cc:8579] Unable to register cuDNN factory: Attempting to register factory for plugin cuDNN when one has already been registered\n",
      "E0000 00:00:1745560506.325393    5336 cuda_blas.cc:1407] Unable to register cuBLAS factory: Attempting to register factory for plugin cuBLAS when one has already been registered\n",
      "W0000 00:00:1745560508.148896    5336 computation_placer.cc:177] computation placer already registered. Please check linkage and avoid linking the same target more than once.\n",
      "W0000 00:00:1745560508.148927    5336 computation_placer.cc:177] computation placer already registered. Please check linkage and avoid linking the same target more than once.\n",
      "W0000 00:00:1745560508.148930    5336 computation_placer.cc:177] computation placer already registered. Please check linkage and avoid linking the same target more than once.\n",
      "W0000 00:00:1745560508.148933    5336 computation_placer.cc:177] computation placer already registered. Please check linkage and avoid linking the same target more than once.\n",
      "2025-04-25 07:55:08.333377: I tensorflow/core/platform/cpu_feature_guard.cc:210] This TensorFlow binary is optimized to use available CPU instructions in performance-critical operations.\n",
      "To enable the following instructions: AVX2 FMA, in other operations, rebuild TensorFlow with the appropriate compiler flags.\n",
      "W0000 00:00:1745560540.696543    5336 gpu_device.cc:2341] Cannot dlopen some GPU libraries. Please make sure the missing libraries mentioned above are installed properly if you would like to use GPU. Follow the guide at https://www.tensorflow.org/install/gpu for how to download and setup the required libraries for your platform.\n",
      "Skipping registering GPU devices...\n",
      "/home/zeldean/Second-Brain/{20} Bachelor of Computing/3 Year/MLG382/Code/.venv/lib/python3.11/site-packages/keras/src/layers/rnn/rnn.py:200: UserWarning: Do not pass an `input_shape`/`input_dim` argument to a layer. When using Sequential models, prefer using an `Input(shape)` object as the first layer in the model instead.\n",
      "  super().__init__(**kwargs)\n"
     ]
    },
    {
     "name": "stdout",
     "output_type": "stream",
     "text": [
      "\u001b[1m1/1\u001b[0m \u001b[32m━━━━━━━━━━━━━━━━━━━━\u001b[0m\u001b[37m\u001b[0m \u001b[1m0s\u001b[0m 95ms/step\n"
     ]
    },
    {
     "data": {
      "image/png": "[encoded data removed]",
      "text/plain": [
       "<Figure size 1000x400 with 1 Axes>"
      ]
     },
     "metadata": {},
     "output_type": "display_data"
    }
   ],
   "source": [
    "import numpy as np\n",
    "import pandas as pd\n",
    "import matplotlib.pyplot as plt\n",
    "from sklearn.preprocessing import MinMaxScaler\n",
    "from keras.models import Sequential\n",
    "from keras.layers import LSTM, Dense\n",
    "\n",
    "# 1. Generate synthetic time series data\n",
    "np.random.seed(42)\n",
    "time = np.arange(100)\n",
    "signal = np.sin(0.2 * time) + np.random.normal(scale=0.1, size=100)\n",
    "\n",
    "# 2. Scale the data\n",
    "scaler = MinMaxScaler()\n",
    "signal_scaled = scaler.fit_transform(signal.reshape(-1, 1))\n",
    "\n",
    "# 3. Convert to supervised format (windowed)\n",
    "def create_windowed_dataset(series, window_size):\n",
    "    X, y = [], []\n",
    "    for i in range(len(series) - window_size):\n",
    "        X.append(series[i:i + window_size])\n",
    "        y.append(series[i + window_size])\n",
    "    return np.array(X), np.array(y)\n",
    "\n",
    "window_size = 10\n",
    "X, y = create_windowed_dataset(signal_scaled, window_size)\n",
    "\n",
    "# 4. Reshape for LSTM [samples, timesteps, features]\n",
    "X = X.reshape((X.shape[0], X.shape[1], 1))\n",
    "\n",
    "# 5. Train/test split\n",
    "split_index = int(len(X) * 0.8)\n",
    "X_train, X_test = X[:split_index], X[split_index:]\n",
    "y_train, y_test = y[:split_index], y[split_index:]\n",
    "\n",
    "# 6. Build the LSTM model\n",
    "model = Sequential()\n",
    "model.add(LSTM(50, activation='relu', input_shape=(window_size, 1)))\n",
    "model.add(Dense(1))  # Single-step forecast\n",
    "\n",
    "model.compile(optimizer='adam', loss='mse')\n",
    "model.fit(X_train, y_train, epochs=50, batch_size=8, validation_data=(X_test, y_test), verbose=0)\n",
    "\n",
    "# 7. Predict\n",
    "y_pred = model.predict(X_test)\n",
    "\n",
    "# 8. Inverse scale\n",
    "y_test_inv = scaler.inverse_transform(y_test)\n",
    "y_pred_inv = scaler.inverse_transform(y_pred)\n",
    "\n",
    "# 9. Plot\n",
    "plt.figure(figsize=(10, 4))\n",
    "plt.plot(range(len(signal)), signal, label='Original Signal', alpha=0.4)\n",
    "plt.plot(range(len(signal) - len(y_test), len(signal)), y_test_inv, label='Actual', marker='o')\n",
    "plt.plot(range(len(signal) - len(y_test), len(signal)), y_pred_inv, label='Predicted', marker='x')\n",
    "plt.title('LSTM Time Series Forecast')\n",
    "plt.legend()\n",
    "plt.tight_layout()\n",
    "plt.show()\n"
   ]
  }
 ],
 "metadata": {
  "kernelspec": {
   "display_name": ".venv",
   "language": "python",
   "name": "python3"
  },
  "language_info": {
   "codemirror_mode": {
    "name": "ipython",
    "version": 3
   },
   "file_extension": ".py",
   "mimetype": "text/x-python",
   "name": "python",
   "nbconvert_exporter": "python",
   "pygments_lexer": "ipython3",
   "version": "3.11.9"
  }
 },
 "nbformat": 4,
 "nbformat_minor": 5
}
