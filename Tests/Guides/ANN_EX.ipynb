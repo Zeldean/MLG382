{
 "cells": [
  {
   "cell_type": "code",
   "execution_count": 33,
   "id": "288a737e",
   "metadata": {},
   "outputs": [],
   "source": [
    "import numpy as np\n",
    "import matplotlib.pyplot as plt\n",
    "import seaborn as sns\n",
    "\n",
    "# Sigmoid function and its derivative\n",
    "def sigmoid(x):\n",
    "    return 1 / (1 + np.exp(-x))\n",
    "\n",
    "def sigmoid_derivative(x):\n",
    "    s = sigmoid(x)\n",
    "    return s * (1 - s)\n"
   ]
  },
  {
   "cell_type": "code",
   "execution_count": 34,
   "id": "ec15ec31",
   "metadata": {},
   "outputs": [],
   "source": [
    "W1 = np.array([[0.014, 0.017, 0.12],\n",
    "               [0.005, 0.023, 0.322],\n",
    "               [0.034, 0.024, 0.044],\n",
    "               [0.018, 0.161, 0.053], \n",
    "               [0.014, 0.053, 0.041], \n",
    "               [0.034, 0.036, 0.081], \n",
    "              ])\n",
    "b1 = np.array([[0.03],\n",
    "               [0.05],\n",
    "               [0.04], \n",
    "               [0.02], \n",
    "               [0.06], \n",
    "               [0.02], \n",
    "              ])\n",
    "W2 = np.array([[0.05, 0.06, 0.07, 0.04, 0.07, 0.36]])\n",
    "b2 = np.array([[0.07]])\n",
    "\n",
    "\n",
    "\n",
    "# Input dataset: each row is a sample\n",
    "X = np.array([\n",
    "    [8], \n",
    "    [3],\n",
    "    [68]\n",
    "])\n",
    "y = np.array([\n",
    "    [0.84]\n",
    "])\n"
   ]
  },
  {
   "cell_type": "code",
   "execution_count": 38,
   "id": "0cbaf138",
   "metadata": {},
   "outputs": [
    {
     "name": "stdout",
     "output_type": "stream",
     "text": [
      "[[0.8363552]]\n"
     ]
    }
   ],
   "source": [
    "a0 = X\n",
    "eta = 0.22\n",
    "\n",
    "\n",
    "z1 = W1 @ a0 + b1\n",
    "a1 = sigmoid(z1)\n",
    "\n",
    "z2 = W2 @ a1 + b2\n",
    "a2 = sigmoid(z2)\n",
    "\n",
    "# Loss\n",
    "error = a2 - y\n",
    "loss = 0.5 * error.T @ error\n",
    "# print(f\"{error}\")\n",
    "\n",
    "# Backward pass\n",
    "delta2 = error * sigmoid_derivative(z2)\n",
    "delta1 = (W2.T @ delta2) * sigmoid_derivative(z1)\n",
    "\n",
    "# Weight updates\n",
    "W2 = W2 - eta * delta2 @ a1.T\n",
    "b2 = b2 - eta * delta2\n",
    "\n",
    "W1 = W1 - eta * delta1 @ a0.T\n",
    "b1 = b1 - eta * delta1\n",
    "\n",
    "# print(a1)\n",
    "print(a2)\n",
    "# print(loss)\n",
    "# print(W1)\n",
    "# print(error)"
   ]
  },
  {
   "cell_type": "raw",
   "id": "57865a63",
   "metadata": {
    "vscode": {
     "languageId": "raw"
    }
   },
   "source": [
    "\n",
    "# Initialize weights and biases\n",
    "np.random.seed(42)\n",
    "W1 = np.random.rand(4, 2)  # 2 inputs → 4 hidden\n",
    "b1 = np.full((4, 1), 0.35)\n",
    "\n",
    "W2 = np.random.rand(1, 4)  # 4 hidden → 1 output\n",
    "b2 = np.full((1, 1), 0.60)\n",
    "\n",
    "# Learning rate\n",
    "eta = 0.5\n",
    "\n",
    "print(W1)\n"
   ]
  },
  {
   "cell_type": "code",
   "execution_count": 36,
   "id": "eea30e39",
   "metadata": {},
   "outputs": [],
   "source": [
    "losses = []\n",
    "epochs = 100\n",
    "a0 = X\n",
    "\n",
    "for epoch in range(epochs):\n",
    "    total_loss = 0    \n",
    "\n",
    "    z1 = W1 @ a0 + b1\n",
    "    a1 = sigmoid(z1)\n",
    "\n",
    "    z2 = W2 @ a1 + b2\n",
    "    a2 = sigmoid(z2)\n",
    "\n",
    "    # Loss\n",
    "    error = a2 - y\n",
    "    loss = 0.5 * error.T @ error\n",
    "    # print(f\"{error}\")\n",
    "\n",
    "    # Backward pass\n",
    "    delta2 = error * sigmoid_derivative(z2)\n",
    "    delta1 = (W2.T @ delta2) * sigmoid_derivative(z1)\n",
    "\n",
    "    # Weight updates\n",
    "    W2 = W2 - eta * delta2 @ a1.T\n",
    "    b2 = b2 - eta * delta2\n",
    "\n",
    "    W1 = W1 - eta * delta1 @ a0.T\n",
    "    b1 = b1 - eta * delta1\n",
    "\n",
    "    losses.append(loss[0][0])\n",
    "    # print(total_loss[0][0])"
   ]
  },
  {
   "cell_type": "code",
   "execution_count": 37,
   "id": "e237dee1",
   "metadata": {},
   "outputs": [
    {
     "data": {
      "image/png": "[encoded data removed]",
      "text/plain": [
       "<Figure size 640x480 with 1 Axes>"
      ]
     },
     "metadata": {},
     "output_type": "display_data"
    }
   ],
   "source": [
    "sns.lineplot(losses)\n",
    "plt.xlabel(\"Epoch\")\n",
    "plt.ylabel(\"Total Loss\")\n",
    "plt.title(\"Loss over Epochs\")\n",
    "plt.grid(True)\n",
    "plt.show()"
   ]
  }
 ],
 "metadata": {
  "kernelspec": {
   "display_name": ".venv",
   "language": "python",
   "name": "python3"
  },
  "language_info": {
   "codemirror_mode": {
    "name": "ipython",
    "version": 3
   },
   "file_extension": ".py",
   "mimetype": "text/x-python",
   "name": "python",
   "nbconvert_exporter": "python",
   "pygments_lexer": "ipython3",
   "version": "3.12.7"
  }
 },
 "nbformat": 4,
 "nbformat_minor": 5
}
